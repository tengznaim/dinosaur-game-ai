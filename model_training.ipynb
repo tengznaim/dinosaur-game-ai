{
 "cells": [
  {
   "cell_type": "markdown",
   "source": [
    "# Training a Fully Connected Neural Network using Tensorflow"
   ],
   "metadata": {}
  },
  {
   "cell_type": "code",
   "execution_count": 1,
   "source": [
    "import os\r\n",
    "import pandas as pd\r\n",
    "import numpy as np\r\n",
    "import cv2 as cv\r\n",
    "from sklearn.preprocessing import OneHotEncoder\r\n",
    "from sklearn.model_selection import train_test_split\r\n",
    "from sklearn.metrics import confusion_matrix, classification_report\r\n",
    "from cf_matrix import make_confusion_matrix\r\n",
    "import matplotlib.pyplot as plt\r\n",
    "import tensorflow as tf"
   ],
   "outputs": [],
   "metadata": {}
  },
  {
   "cell_type": "code",
   "execution_count": 2,
   "source": [
    "tf.__version__"
   ],
   "outputs": [
    {
     "output_type": "execute_result",
     "data": {
      "text/plain": [
       "'2.6.0'"
      ]
     },
     "metadata": {},
     "execution_count": 2
    }
   ],
   "metadata": {}
  },
  {
   "cell_type": "markdown",
   "source": [
    "## Loading Training Data\r\n",
    "\r\n",
    "Currently, the data we have is unbalanced and future updates should improve on this."
   ],
   "metadata": {}
  },
  {
   "cell_type": "code",
   "execution_count": 3,
   "source": [
    "parent_dir = os.getcwd()\r\n",
    "training_data_folder = os.path.join(parent_dir, \"training_data_smaller\")\r\n",
    "\r\n",
    "up_folder = os.path.join(training_data_folder, \"up\")\r\n",
    "down_folder = os.path.join(training_data_folder, \"down\")\r\n",
    "right_folder = os.path.join(training_data_folder, \"right\")\r\n",
    "\r\n",
    "up_images = os.listdir(up_folder)\r\n",
    "down_images = os.listdir(down_folder)\r\n",
    "right_images = os.listdir(right_folder)\r\n",
    "\r\n",
    "up_count = len(up_images)\r\n",
    "down_count = len(down_images)\r\n",
    "right_count = len(right_images)\r\n",
    "\r\n",
    "labels = [\"Up\",\"Down\",\"Right\"]\r\n",
    "plt.bar(labels,[up_count, down_count, right_count])\r\n",
    "plt.show()"
   ],
   "outputs": [
    {
     "output_type": "display_data",
     "data": {
      "image/png": "[encoded data removed]",
      "text/plain": [
       "<Figure size 432x288 with 1 Axes>"
      ]
     },
     "metadata": {
      "needs_background": "light"
     }
    }
   ],
   "metadata": {}
  },
  {
   "cell_type": "markdown",
   "source": [
    "## Preparing the Images for Training\r\n",
    "\r\n",
    "The images are read using OpenCV, converted to grayscale, normalized to values between 0 and 1 and resized to a 40x40 image (scaled down by a factor of 10). They are then unrolled into a vector of 1600 pixels and added to the input feature array. Labels to the images are created based on the name of the image excluding their numbers, eg. up(0) -> up, and added to the known output array."
   ],
   "metadata": {}
  },
  {
   "cell_type": "code",
   "execution_count": 4,
   "source": [
    "X = []\r\n",
    "y = []\r\n",
    "\r\n",
    "folder_list = [up_folder, down_folder, right_folder]\r\n",
    "\r\n",
    "for curr_folder in folder_list:\r\n",
    "    for image_name in os.listdir(curr_folder):\r\n",
    "        label = image_name[:image_name.index(\"(\")]\r\n",
    "\r\n",
    "        image = cv.imread(os.path.join(curr_folder, image_name))\r\n",
    "        grayscale = cv.cvtColor(image, cv.COLOR_BGR2GRAY)\r\n",
    "\r\n",
    "        normalized = grayscale / 255\r\n",
    "        # resized = cv.resize(normalized, (60, 40), interpolation=cv.INTER_AREA)\r\n",
    "        resized = cv.resize(normalized, (40, 40), interpolation=cv.INTER_AREA)\r\n",
    "\r\n",
    "        # Unrolling the matrices into vectors of 2400 pixels.\r\n",
    "        X.append(np.ravel(resized))\r\n",
    "        y.append(label)\r\n",
    "\r\n",
    "X = np.array(X)\r\n",
    "y = np.array(y)\r\n",
    "\r\n",
    "# plt.imshow(np.reshape(X[0], (40,60)), cmap=\"gray\")\r\n",
    "plt.imshow(np.reshape(X[0], (40,40)), cmap=\"gray\")\r\n",
    "plt.title(\"Example of Processed Image (60x40)\")\r\n",
    "\r\n",
    "print(\"Input Array Shape:\",X.shape)\r\n",
    "print(\"Label Array Shape:\",y.shape)"
   ],
   "outputs": [
    {
     "output_type": "stream",
     "name": "stdout",
     "text": [
      "Input Array Shape: (1218, 1600)\n",
      "Label Array Shape: (1218,)\n"
     ]
    },
    {
     "output_type": "display_data",
     "data": {
      "image/png": "[encoded data removed]",
      "text/plain": [
       "<Figure size 432x288 with 1 Axes>"
      ]
     },
     "metadata": {
      "needs_background": "light"
     }
    }
   ],
   "metadata": {}
  },
  {
   "cell_type": "markdown",
   "source": [
    "## Encoding the Categorical Labels (up, down and right) to One-Hot-Encoded\r\n",
    "\r\n",
    "The original labels would be in the form of \"up\", \"down\", or \"right\". One hot encoding is used to represent these categorical data into binary features that can be used to train our network. The data is encoded as follows:\r\n",
    "\r\n",
    "up - [1,0,0]\r\n",
    "\r\n",
    "down - [0,1,0]\r\n",
    "\r\n",
    "right - [0,0,1]"
   ],
   "metadata": {}
  },
  {
   "cell_type": "code",
   "execution_count": 5,
   "source": [
    "encoder = OneHotEncoder(categories=[[\"up\", \"down\", \"right\"]])\r\n",
    "y_encoded = np.array(encoder.fit_transform(y.reshape(-1,1)).toarray())\r\n",
    "\r\n",
    "print(y_encoded[:5, :])\r\n",
    "print(y_encoded.shape)\r\n"
   ],
   "outputs": [
    {
     "output_type": "stream",
     "name": "stdout",
     "text": [
      "[[1. 0. 0.]\n",
      " [1. 0. 0.]\n",
      " [1. 0. 0.]\n",
      " [1. 0. 0.]\n",
      " [1. 0. 0.]]\n",
      "(1218, 3)\n"
     ]
    }
   ],
   "metadata": {}
  },
  {
   "cell_type": "markdown",
   "source": [
    "## Splitting the Dataset into Training and Test Data\r\n",
    "\r\n",
    "The dataset is split into a 80/20 split where 80% of the data is used for the training set and 20% is used for the test set. Due to the nature of the arrangement of the data, the dataset is also shuffled."
   ],
   "metadata": {}
  },
  {
   "cell_type": "code",
   "execution_count": 6,
   "source": [
    "X_train, X_test, y_train, y_test = train_test_split(X, y_encoded, test_size=0.2, shuffle=True)"
   ],
   "outputs": [],
   "metadata": {}
  },
  {
   "cell_type": "markdown",
   "source": [
    "## Configuring the Network\r\n",
    "\r\n",
    "The model is a simple 3 layer densely connected neural network. The input layer has 1600 neurons corresponding to a 40x40 image, the hidden layer has 1000 neurons and the output layer has 3 units."
   ],
   "metadata": {}
  },
  {
   "cell_type": "code",
   "execution_count": 7,
   "source": [
    "model = tf.keras.models.Sequential()\r\n",
    "\r\n",
    "# Hidden Layer\r\n",
    "# model.add(tf.keras.layers.Dense(units=100, input_shape=(2400,), activation=\"relu\"))\r\n",
    "model.add(tf.keras.layers.Dense(units=1000, input_shape=(1600,), activation=\"relu\"))\r\n",
    "# 3 output units, one for each of the possible keys to press.\r\n",
    "model.add(tf.keras.layers.Dense(units=3, activation=\"softmax\"))\r\n",
    "\r\n",
    "model.summary()"
   ],
   "outputs": [
    {
     "output_type": "stream",
     "name": "stdout",
     "text": [
      "Model: \"sequential\"\n",
      "_________________________________________________________________\n",
      "Layer (type)                 Output Shape              Param #   \n",
      "=================================================================\n",
      "dense (Dense)                (None, 1000)              1601000   \n",
      "_________________________________________________________________\n",
      "dense_1 (Dense)              (None, 3)                 3003      \n",
      "=================================================================\n",
      "Total params: 1,604,003\n",
      "Trainable params: 1,604,003\n",
      "Non-trainable params: 0\n",
      "_________________________________________________________________\n"
     ]
    }
   ],
   "metadata": {}
  },
  {
   "cell_type": "markdown",
   "source": [
    "## Compile and Train\r\n",
    "\r\n",
    "The current model is optimized using stochastic gradient descent (sgd) on categorical cross entropy. I also implemented an option to use early stopping while training to monitor and combat overfitting if necessary. To use this, pass ```early_stopping``` into a list of callbacks in ```model.fit()```, eg. ```model.fit(...callbacks=[early_stopping])```"
   ],
   "metadata": {}
  },
  {
   "cell_type": "code",
   "execution_count": 8,
   "source": [
    "model.compile(optimizer=\"sgd\", loss=\"categorical_crossentropy\", metrics=[\"accuracy\"])\r\n",
    "\r\n",
    "early_stopping = tf.keras.callbacks.EarlyStopping(monitor=\"val_loss\", patience=5, verbose=1, mode=\"min\")\r\n",
    "\r\n",
    "history = model.fit(X_train, y_train, batch_size=32, epochs=100, validation_data=(X_test, y_test))"
   ],
   "outputs": [
    {
     "output_type": "stream",
     "name": "stdout",
     "text": [
      "Epoch 1/100\n",
      "31/31 [==============================] - 1s 15ms/step - loss: 0.7586 - accuracy: 0.6745 - val_loss: 0.6228 - val_accuracy: 0.7049\n",
      "Epoch 2/100\n",
      "31/31 [==============================] - 0s 9ms/step - loss: 0.6082 - accuracy: 0.7300 - val_loss: 0.5587 - val_accuracy: 0.7213\n",
      "Epoch 3/100\n",
      "31/31 [==============================] - 0s 9ms/step - loss: 0.5568 - accuracy: 0.7926 - val_loss: 0.5145 - val_accuracy: 0.7869\n",
      "Epoch 4/100\n",
      "31/31 [==============================] - 0s 10ms/step - loss: 0.5233 - accuracy: 0.8337 - val_loss: 0.4776 - val_accuracy: 0.8607\n",
      "Epoch 5/100\n",
      "31/31 [==============================] - 0s 10ms/step - loss: 0.4899 - accuracy: 0.8696 - val_loss: 0.4513 - val_accuracy: 0.8607\n",
      "Epoch 6/100\n",
      "31/31 [==============================] - 0s 9ms/step - loss: 0.4602 - accuracy: 0.8840 - val_loss: 0.4204 - val_accuracy: 0.9057\n",
      "Epoch 7/100\n",
      "31/31 [==============================] - 0s 11ms/step - loss: 0.4353 - accuracy: 0.8994 - val_loss: 0.4369 - val_accuracy: 0.9549\n",
      "Epoch 8/100\n",
      "31/31 [==============================] - 0s 10ms/step - loss: 0.4132 - accuracy: 0.9097 - val_loss: 0.3781 - val_accuracy: 0.9016\n",
      "Epoch 9/100\n",
      "31/31 [==============================] - 0s 9ms/step - loss: 0.3960 - accuracy: 0.9066 - val_loss: 0.3577 - val_accuracy: 0.9098\n",
      "Epoch 10/100\n",
      "31/31 [==============================] - 0s 9ms/step - loss: 0.3752 - accuracy: 0.9066 - val_loss: 0.3449 - val_accuracy: 0.9098\n",
      "Epoch 11/100\n",
      "31/31 [==============================] - 0s 8ms/step - loss: 0.3552 - accuracy: 0.9138 - val_loss: 0.3300 - val_accuracy: 0.9098\n",
      "Epoch 12/100\n",
      "31/31 [==============================] - 0s 9ms/step - loss: 0.3437 - accuracy: 0.9117 - val_loss: 0.3125 - val_accuracy: 0.9180\n",
      "Epoch 13/100\n",
      "31/31 [==============================] - 0s 8ms/step - loss: 0.3311 - accuracy: 0.9117 - val_loss: 0.2991 - val_accuracy: 0.9221\n",
      "Epoch 14/100\n",
      "31/31 [==============================] - 0s 8ms/step - loss: 0.3151 - accuracy: 0.9189 - val_loss: 0.2895 - val_accuracy: 0.9180\n",
      "Epoch 15/100\n",
      "31/31 [==============================] - 0s 9ms/step - loss: 0.3025 - accuracy: 0.9148 - val_loss: 0.2770 - val_accuracy: 0.9221\n",
      "Epoch 16/100\n",
      "31/31 [==============================] - 0s 8ms/step - loss: 0.2925 - accuracy: 0.9220 - val_loss: 0.2682 - val_accuracy: 0.9262\n",
      "Epoch 17/100\n",
      "31/31 [==============================] - 0s 8ms/step - loss: 0.2795 - accuracy: 0.9240 - val_loss: 0.2602 - val_accuracy: 0.9221\n",
      "Epoch 18/100\n",
      "31/31 [==============================] - 0s 8ms/step - loss: 0.2738 - accuracy: 0.9251 - val_loss: 0.2511 - val_accuracy: 0.9221\n",
      "Epoch 19/100\n",
      "31/31 [==============================] - 0s 9ms/step - loss: 0.2638 - accuracy: 0.9302 - val_loss: 0.2492 - val_accuracy: 0.9221\n",
      "Epoch 20/100\n",
      "31/31 [==============================] - 0s 8ms/step - loss: 0.2552 - accuracy: 0.9302 - val_loss: 0.2419 - val_accuracy: 0.9221\n",
      "Epoch 21/100\n",
      "31/31 [==============================] - 0s 8ms/step - loss: 0.2537 - accuracy: 0.9292 - val_loss: 0.2325 - val_accuracy: 0.9262\n",
      "Epoch 22/100\n",
      "31/31 [==============================] - 0s 8ms/step - loss: 0.2522 - accuracy: 0.9281 - val_loss: 0.2266 - val_accuracy: 0.9262\n",
      "Epoch 23/100\n",
      "31/31 [==============================] - 0s 8ms/step - loss: 0.2470 - accuracy: 0.9302 - val_loss: 0.3230 - val_accuracy: 0.9344\n",
      "Epoch 24/100\n",
      "31/31 [==============================] - 0s 8ms/step - loss: 0.2396 - accuracy: 0.9353 - val_loss: 0.2212 - val_accuracy: 0.9221\n",
      "Epoch 25/100\n",
      "31/31 [==============================] - 0s 8ms/step - loss: 0.2299 - accuracy: 0.9343 - val_loss: 0.2109 - val_accuracy: 0.9467\n",
      "Epoch 26/100\n",
      "31/31 [==============================] - 0s 8ms/step - loss: 0.2228 - accuracy: 0.9415 - val_loss: 0.2088 - val_accuracy: 0.9344\n",
      "Epoch 27/100\n",
      "31/31 [==============================] - 0s 8ms/step - loss: 0.2230 - accuracy: 0.9384 - val_loss: 0.2033 - val_accuracy: 0.9549\n",
      "Epoch 28/100\n",
      "31/31 [==============================] - 0s 8ms/step - loss: 0.2127 - accuracy: 0.9497 - val_loss: 0.1981 - val_accuracy: 0.9467\n",
      "Epoch 29/100\n",
      "31/31 [==============================] - 0s 8ms/step - loss: 0.2079 - accuracy: 0.9476 - val_loss: 0.1971 - val_accuracy: 0.9426\n",
      "Epoch 30/100\n",
      "31/31 [==============================] - 0s 8ms/step - loss: 0.2003 - accuracy: 0.9466 - val_loss: 0.1936 - val_accuracy: 0.9467\n",
      "Epoch 31/100\n",
      "31/31 [==============================] - 0s 8ms/step - loss: 0.2067 - accuracy: 0.9425 - val_loss: 0.1884 - val_accuracy: 0.9467\n",
      "Epoch 32/100\n",
      "31/31 [==============================] - 0s 9ms/step - loss: 0.1902 - accuracy: 0.9528 - val_loss: 0.1935 - val_accuracy: 0.9344\n",
      "Epoch 33/100\n",
      "31/31 [==============================] - 0s 8ms/step - loss: 0.1819 - accuracy: 0.9517 - val_loss: 0.1823 - val_accuracy: 0.9508\n",
      "Epoch 34/100\n",
      "31/31 [==============================] - 0s 8ms/step - loss: 0.1848 - accuracy: 0.9559 - val_loss: 0.1811 - val_accuracy: 0.9508\n",
      "Epoch 35/100\n",
      "31/31 [==============================] - 0s 8ms/step - loss: 0.1729 - accuracy: 0.9579 - val_loss: 0.1852 - val_accuracy: 0.9426\n",
      "Epoch 36/100\n",
      "31/31 [==============================] - 0s 8ms/step - loss: 0.1738 - accuracy: 0.9630 - val_loss: 0.1733 - val_accuracy: 0.9549\n",
      "Epoch 37/100\n",
      "31/31 [==============================] - 0s 8ms/step - loss: 0.1756 - accuracy: 0.9589 - val_loss: 0.1742 - val_accuracy: 0.9508\n",
      "Epoch 38/100\n",
      "31/31 [==============================] - 0s 8ms/step - loss: 0.1650 - accuracy: 0.9610 - val_loss: 0.1699 - val_accuracy: 0.9508\n",
      "Epoch 39/100\n",
      "31/31 [==============================] - 0s 8ms/step - loss: 0.1791 - accuracy: 0.9620 - val_loss: 0.1901 - val_accuracy: 0.9344\n",
      "Epoch 40/100\n",
      "31/31 [==============================] - 0s 8ms/step - loss: 0.1640 - accuracy: 0.9651 - val_loss: 0.1794 - val_accuracy: 0.9426\n",
      "Epoch 41/100\n",
      "31/31 [==============================] - 0s 8ms/step - loss: 0.1639 - accuracy: 0.9661 - val_loss: 0.1658 - val_accuracy: 0.9549\n",
      "Epoch 42/100\n",
      "31/31 [==============================] - 0s 8ms/step - loss: 0.1581 - accuracy: 0.9661 - val_loss: 0.1658 - val_accuracy: 0.9549\n",
      "Epoch 43/100\n",
      "31/31 [==============================] - 0s 8ms/step - loss: 0.1637 - accuracy: 0.9671 - val_loss: 0.1693 - val_accuracy: 0.9549\n",
      "Epoch 44/100\n",
      "31/31 [==============================] - 0s 8ms/step - loss: 0.1524 - accuracy: 0.9743 - val_loss: 0.1584 - val_accuracy: 0.9713\n",
      "Epoch 45/100\n",
      "31/31 [==============================] - 0s 8ms/step - loss: 0.1477 - accuracy: 0.9702 - val_loss: 0.1554 - val_accuracy: 0.9836\n",
      "Epoch 46/100\n",
      "31/31 [==============================] - 0s 8ms/step - loss: 0.1510 - accuracy: 0.9723 - val_loss: 0.1544 - val_accuracy: 0.9713\n",
      "Epoch 47/100\n",
      "31/31 [==============================] - 0s 8ms/step - loss: 0.1517 - accuracy: 0.9723 - val_loss: 0.1560 - val_accuracy: 0.9631\n",
      "Epoch 48/100\n",
      "31/31 [==============================] - 0s 8ms/step - loss: 0.1577 - accuracy: 0.9702 - val_loss: 0.1549 - val_accuracy: 0.9631\n",
      "Epoch 49/100\n",
      "31/31 [==============================] - 0s 8ms/step - loss: 0.1498 - accuracy: 0.9671 - val_loss: 0.1542 - val_accuracy: 0.9713\n",
      "Epoch 50/100\n",
      "31/31 [==============================] - 0s 8ms/step - loss: 0.1438 - accuracy: 0.9764 - val_loss: 0.3362 - val_accuracy: 0.9508\n",
      "Epoch 51/100\n",
      "31/31 [==============================] - 0s 8ms/step - loss: 0.1601 - accuracy: 0.9723 - val_loss: 0.1473 - val_accuracy: 0.9795\n",
      "Epoch 52/100\n",
      "31/31 [==============================] - 0s 8ms/step - loss: 0.1387 - accuracy: 0.9723 - val_loss: 0.1538 - val_accuracy: 0.9631\n",
      "Epoch 53/100\n",
      "31/31 [==============================] - 0s 8ms/step - loss: 0.1346 - accuracy: 0.9754 - val_loss: 0.1463 - val_accuracy: 0.9754\n",
      "Epoch 54/100\n",
      "31/31 [==============================] - 0s 8ms/step - loss: 0.1299 - accuracy: 0.9733 - val_loss: 0.1542 - val_accuracy: 0.9631\n",
      "Epoch 55/100\n",
      "31/31 [==============================] - 0s 8ms/step - loss: 0.1300 - accuracy: 0.9754 - val_loss: 0.1651 - val_accuracy: 0.9754\n",
      "Epoch 56/100\n",
      "31/31 [==============================] - 0s 8ms/step - loss: 0.1332 - accuracy: 0.9774 - val_loss: 0.1432 - val_accuracy: 0.9795\n",
      "Epoch 57/100\n",
      "31/31 [==============================] - 0s 8ms/step - loss: 0.1254 - accuracy: 0.9784 - val_loss: 0.1524 - val_accuracy: 0.9836\n",
      "Epoch 58/100\n",
      "31/31 [==============================] - 0s 8ms/step - loss: 0.1356 - accuracy: 0.9764 - val_loss: 0.3333 - val_accuracy: 0.9508\n",
      "Epoch 59/100\n",
      "31/31 [==============================] - 0s 8ms/step - loss: 0.1238 - accuracy: 0.9764 - val_loss: 0.1486 - val_accuracy: 0.9631\n",
      "Epoch 60/100\n",
      "31/31 [==============================] - 0s 8ms/step - loss: 0.1227 - accuracy: 0.9795 - val_loss: 0.5007 - val_accuracy: 0.9508\n",
      "Epoch 61/100\n",
      "31/31 [==============================] - 0s 8ms/step - loss: 0.1528 - accuracy: 0.9784 - val_loss: 0.1379 - val_accuracy: 0.9795\n",
      "Epoch 62/100\n",
      "31/31 [==============================] - 0s 8ms/step - loss: 0.1269 - accuracy: 0.9713 - val_loss: 0.1425 - val_accuracy: 0.9754\n",
      "Epoch 63/100\n",
      "31/31 [==============================] - 0s 8ms/step - loss: 0.1189 - accuracy: 0.9815 - val_loss: 0.1348 - val_accuracy: 0.9836\n",
      "Epoch 64/100\n",
      "31/31 [==============================] - 0s 8ms/step - loss: 0.1354 - accuracy: 0.9692 - val_loss: 0.1471 - val_accuracy: 0.9631\n",
      "Epoch 65/100\n",
      "31/31 [==============================] - 0s 8ms/step - loss: 0.1215 - accuracy: 0.9774 - val_loss: 0.1344 - val_accuracy: 0.9836\n",
      "Epoch 66/100\n",
      "31/31 [==============================] - 0s 8ms/step - loss: 0.1186 - accuracy: 0.9774 - val_loss: 0.1419 - val_accuracy: 0.9795\n",
      "Epoch 67/100\n",
      "31/31 [==============================] - 0s 8ms/step - loss: 0.1209 - accuracy: 0.9774 - val_loss: 0.1350 - val_accuracy: 0.9795\n",
      "Epoch 68/100\n",
      "31/31 [==============================] - 0s 8ms/step - loss: 0.1364 - accuracy: 0.9713 - val_loss: 0.1416 - val_accuracy: 0.9795\n",
      "Epoch 69/100\n",
      "31/31 [==============================] - 0s 8ms/step - loss: 0.1126 - accuracy: 0.9815 - val_loss: 0.8270 - val_accuracy: 0.9549\n",
      "Epoch 70/100\n",
      "31/31 [==============================] - 0s 8ms/step - loss: 0.1533 - accuracy: 0.9754 - val_loss: 0.1367 - val_accuracy: 0.9795\n",
      "Epoch 71/100\n",
      "31/31 [==============================] - 0s 8ms/step - loss: 0.1112 - accuracy: 0.9825 - val_loss: 0.1323 - val_accuracy: 0.9795\n",
      "Epoch 72/100\n",
      "31/31 [==============================] - 0s 8ms/step - loss: 0.1122 - accuracy: 0.9805 - val_loss: 0.1306 - val_accuracy: 0.9795\n",
      "Epoch 73/100\n",
      "31/31 [==============================] - 0s 8ms/step - loss: 0.1053 - accuracy: 0.9825 - val_loss: 0.3196 - val_accuracy: 0.9508\n",
      "Epoch 74/100\n",
      "31/31 [==============================] - 0s 8ms/step - loss: 0.1171 - accuracy: 0.9784 - val_loss: 0.1299 - val_accuracy: 0.9836\n",
      "Epoch 75/100\n",
      "31/31 [==============================] - 0s 9ms/step - loss: 0.1181 - accuracy: 0.9713 - val_loss: 0.1288 - val_accuracy: 0.9877\n",
      "Epoch 76/100\n",
      "31/31 [==============================] - 0s 8ms/step - loss: 0.1101 - accuracy: 0.9815 - val_loss: 0.1328 - val_accuracy: 0.9795\n",
      "Epoch 77/100\n",
      "31/31 [==============================] - 0s 8ms/step - loss: 0.1043 - accuracy: 0.9805 - val_loss: 0.2854 - val_accuracy: 0.9508\n",
      "Epoch 78/100\n",
      "31/31 [==============================] - 0s 8ms/step - loss: 0.1310 - accuracy: 0.9733 - val_loss: 0.1370 - val_accuracy: 0.9795\n",
      "Epoch 79/100\n",
      "31/31 [==============================] - 0s 8ms/step - loss: 0.1296 - accuracy: 0.9764 - val_loss: 0.1273 - val_accuracy: 0.9877\n",
      "Epoch 80/100\n",
      "31/31 [==============================] - 0s 8ms/step - loss: 0.1090 - accuracy: 0.9784 - val_loss: 0.1243 - val_accuracy: 0.9877\n",
      "Epoch 81/100\n",
      "31/31 [==============================] - 0s 8ms/step - loss: 0.0980 - accuracy: 0.9836 - val_loss: 0.1248 - val_accuracy: 0.9877\n",
      "Epoch 82/100\n",
      "31/31 [==============================] - 0s 8ms/step - loss: 0.1008 - accuracy: 0.9836 - val_loss: 0.1401 - val_accuracy: 0.9672\n",
      "Epoch 83/100\n",
      "31/31 [==============================] - 0s 8ms/step - loss: 0.0964 - accuracy: 0.9846 - val_loss: 0.1245 - val_accuracy: 0.9877\n",
      "Epoch 84/100\n",
      "31/31 [==============================] - 0s 8ms/step - loss: 0.0979 - accuracy: 0.9846 - val_loss: 0.1247 - val_accuracy: 0.9836\n",
      "Epoch 85/100\n",
      "31/31 [==============================] - 0s 8ms/step - loss: 0.1040 - accuracy: 0.9795 - val_loss: 0.1243 - val_accuracy: 0.9877\n",
      "Epoch 86/100\n",
      "31/31 [==============================] - 0s 8ms/step - loss: 0.0970 - accuracy: 0.9805 - val_loss: 0.1229 - val_accuracy: 0.9877\n",
      "Epoch 87/100\n",
      "31/31 [==============================] - 0s 8ms/step - loss: 0.1011 - accuracy: 0.9795 - val_loss: 0.1294 - val_accuracy: 0.9836\n",
      "Epoch 88/100\n",
      "31/31 [==============================] - 0s 8ms/step - loss: 0.0966 - accuracy: 0.9784 - val_loss: 0.1299 - val_accuracy: 0.9795\n",
      "Epoch 89/100\n",
      "31/31 [==============================] - 0s 8ms/step - loss: 0.0905 - accuracy: 0.9846 - val_loss: 0.1203 - val_accuracy: 0.9877\n",
      "Epoch 90/100\n",
      "31/31 [==============================] - 0s 8ms/step - loss: 0.1067 - accuracy: 0.9815 - val_loss: 0.1213 - val_accuracy: 0.9877\n",
      "Epoch 91/100\n",
      "31/31 [==============================] - 0s 8ms/step - loss: 0.0875 - accuracy: 0.9856 - val_loss: 0.1191 - val_accuracy: 0.9918\n",
      "Epoch 92/100\n",
      "31/31 [==============================] - 0s 8ms/step - loss: 0.0884 - accuracy: 0.9836 - val_loss: 0.1746 - val_accuracy: 0.9508\n",
      "Epoch 93/100\n",
      "31/31 [==============================] - 0s 8ms/step - loss: 0.1026 - accuracy: 0.9825 - val_loss: 0.1196 - val_accuracy: 0.9877\n",
      "Epoch 94/100\n",
      "31/31 [==============================] - 0s 8ms/step - loss: 0.0994 - accuracy: 0.9795 - val_loss: 0.1218 - val_accuracy: 0.9877\n",
      "Epoch 95/100\n",
      "31/31 [==============================] - 0s 8ms/step - loss: 0.0961 - accuracy: 0.9825 - val_loss: 0.1201 - val_accuracy: 0.9877\n",
      "Epoch 96/100\n",
      "31/31 [==============================] - 0s 8ms/step - loss: 0.0849 - accuracy: 0.9825 - val_loss: 0.1221 - val_accuracy: 0.9836\n",
      "Epoch 97/100\n",
      "31/31 [==============================] - 0s 8ms/step - loss: 0.0930 - accuracy: 0.9692 - val_loss: 0.2121 - val_accuracy: 0.9426\n",
      "Epoch 98/100\n",
      "31/31 [==============================] - 0s 8ms/step - loss: 0.1090 - accuracy: 0.9846 - val_loss: 0.1165 - val_accuracy: 0.9877\n",
      "Epoch 99/100\n",
      "31/31 [==============================] - 0s 8ms/step - loss: 0.0874 - accuracy: 0.9836 - val_loss: 0.1278 - val_accuracy: 0.9836\n",
      "Epoch 100/100\n",
      "31/31 [==============================] - 0s 8ms/step - loss: 0.0867 - accuracy: 0.9815 - val_loss: 0.1453 - val_accuracy: 0.9672\n"
     ]
    }
   ],
   "metadata": {}
  },
  {
   "cell_type": "markdown",
   "source": [
    "## Plotting Learning Curves\r\n",
    "\r\n",
    "Learning curves are plots that plot learning or improvement against time. When training, I also passed in the test set for validation that should theoretically give an idea how well the model is generalizing (I believe better practice would be to another separate cross validation dataset on bigger datasets). With the calculation of both the training loss and validation loss while training, the following cell then makes use of the training history and plots an optimization learning curve.\r\n",
    "\r\n",
    "Ideally, in order to be a good fit, we we would want both the training and validation losses to decrease to a point of stability with a minimal gap between the losses. Training loss should also be lower than the validation loss."
   ],
   "metadata": {}
  },
  {
   "cell_type": "code",
   "execution_count": 9,
   "source": [
    "loss = history.history[\"loss\"]\r\n",
    "val_loss = history.history[\"val_loss\"]\r\n",
    "epoch_axis = [i+1 for i in range(len(loss))]\r\n",
    "\r\n",
    "plt.plot(epoch_axis, loss, label=\"Training Loss\")\r\n",
    "plt.plot(epoch_axis, val_loss, label=\"Validation Loss\")\r\n",
    "plt.title(\"Training vs Validation Loss\")\r\n",
    "plt.xlabel(\"Number of epochs\")\r\n",
    "plt.ylabel(\"Loss\")\r\n",
    "plt.legend()\r\n",
    "plt.show()"
   ],
   "outputs": [
    {
     "output_type": "display_data",
     "data": {
      "image/png": "[encoded data removed]",
      "text/plain": [
       "<Figure size 432x288 with 1 Axes>"
      ]
     },
     "metadata": {
      "needs_background": "light"
     }
    }
   ],
   "metadata": {}
  },
  {
   "cell_type": "markdown",
   "source": [
    "## Model Evaluation\r\n",
    "\r\n",
    "In order to evaluate the model, the cell below creates a classification report to display metrics in terms of precision, recall and the f-score. A confusion matrix is then generated to view where the model made classification errors. Most commonly, as of now, the model slightly misclassifies running to the right as jumping or ducking."
   ],
   "metadata": {}
  },
  {
   "cell_type": "code",
   "execution_count": 10,
   "source": [
    "test_set_predictions = np.argmax(model.predict(X_test), axis=1)\r\n",
    "original_test_output = np.argmax(y_test, axis=1)\r\n",
    "\r\n",
    "test_report = classification_report(original_test_output, test_set_predictions, target_names=labels)\r\n",
    "print(test_report)\r\n",
    "\r\n",
    "matrix = confusion_matrix(original_test_output, test_set_predictions)\r\n",
    "make_confusion_matrix(matrix, categories=labels, figsize=(10,10), title=\"Test Set Confusion Matrix\")"
   ],
   "outputs": [
    {
     "output_type": "stream",
     "name": "stdout",
     "text": [
      "              precision    recall  f1-score   support\n",
      "\n",
      "          Up       1.00      0.90      0.95        68\n",
      "        Down       1.00      0.75      0.86         4\n",
      "       Right       0.96      1.00      0.98       172\n",
      "\n",
      "    accuracy                           0.97       244\n",
      "   macro avg       0.99      0.88      0.93       244\n",
      "weighted avg       0.97      0.97      0.97       244\n",
      "\n"
     ]
    },
    {
     "output_type": "display_data",
     "data": {
      "image/png": "[encoded data removed]",
      "text/plain": [
       "<Figure size 720x720 with 2 Axes>"
      ]
     },
     "metadata": {
      "needs_background": "light"
     }
    }
   ],
   "metadata": {}
  },
  {
   "cell_type": "markdown",
   "source": [
    "## Exporting the Model\r\n",
    "\r\n",
    "The main model which I find to be best performing is saved under \"saved_model\". Hence, at the current time, I don't want to overwrite this. Instead, the following cell will now prompt for a model name which will be saved under a folder called \"test_models\""
   ],
   "metadata": {}
  },
  {
   "cell_type": "code",
   "execution_count": 12,
   "source": [
    "if \"saved_model\" not in os.listdir(parent_dir):\r\n",
    "    os.mkdir(os.path.join(parent_dir, \"saved_model\"))\r\n",
    "    model.save(\"saved_model\")\r\n",
    "    \r\n",
    "else:\r\n",
    "    if \"test_models\" not in os.listdir(parent_dir):\r\n",
    "        os.mkdir(os.path.join(parent_dir, \"test_models\"))\r\n",
    "        \r\n",
    "    test_models_directory = os.path.join(parent_dir, \"test_models\")\r\n",
    "\r\n",
    "    model_name = input(\"Enter the model name:\")\r\n",
    "    model.save(os.path.join(test_models_directory, model_name))"
   ],
   "outputs": [
    {
     "output_type": "stream",
     "name": "stdout",
     "text": [
      "INFO:tensorflow:Assets written to: c:\\Users\\Naim\\Desktop\\Dev Work\\MachineLearning\\dinosaur-game-ai\\test_models\\smaller_more_data\\assets\n"
     ]
    }
   ],
   "metadata": {}
  }
 ],
 "metadata": {
  "orig_nbformat": 4,
  "language_info": {
   "name": "python",
   "version": "3.9.6",
   "mimetype": "text/x-python",
   "codemirror_mode": {
    "name": "ipython",
    "version": 3
   },
   "pygments_lexer": "ipython3",
   "nbconvert_exporter": "python",
   "file_extension": ".py"
  },
  "kernelspec": {
   "name": "python3",
   "display_name": "Python 3.9.6 64-bit"
  },
  "interpreter": {
   "hash": "32ee993759a3779259f6a209bc77407797f20b4ad1f2e949d165c2780a488203"
  }
 },
 "nbformat": 4,
 "nbformat_minor": 2
}