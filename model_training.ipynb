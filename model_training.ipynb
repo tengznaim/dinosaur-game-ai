{
 "cells": [
  {
   "cell_type": "markdown",
   "source": [
    "# Training a Fully Connected Neural Network using Tensorflow"
   ],
   "metadata": {}
  },
  {
   "cell_type": "code",
   "execution_count": 1,
   "source": [
    "import os\r\n",
    "import pandas as pd\r\n",
    "import numpy as np\r\n",
    "import cv2 as cv\r\n",
    "from sklearn.preprocessing import OneHotEncoder\r\n",
    "from sklearn.model_selection import train_test_split\r\n",
    "from sklearn.metrics import confusion_matrix, classification_report\r\n",
    "from cf_matrix import make_confusion_matrix\r\n",
    "import matplotlib.pyplot as plt\r\n",
    "import tensorflow as tf"
   ],
   "outputs": [],
   "metadata": {}
  },
  {
   "cell_type": "code",
   "execution_count": 2,
   "source": [
    "tf.__version__"
   ],
   "outputs": [
    {
     "output_type": "execute_result",
     "data": {
      "text/plain": [
       "'2.6.0'"
      ]
     },
     "metadata": {},
     "execution_count": 2
    }
   ],
   "metadata": {}
  },
  {
   "cell_type": "markdown",
   "source": [
    "## Loading Training Data\r\n",
    "\r\n",
    "The following cell just defines all directories and creates a plot to visualise the distribution of the data. Currently, the data is unbalanced and should be improved."
   ],
   "metadata": {}
  },
  {
   "cell_type": "code",
   "execution_count": 3,
   "source": [
    "parent_dir = os.getcwd()\r\n",
    "training_data_folder = os.path.join(parent_dir, \"training_data\")\r\n",
    "\r\n",
    "up_folder = os.path.join(training_data_folder, \"up\")\r\n",
    "down_folder = os.path.join(training_data_folder, \"down\")\r\n",
    "right_folder = os.path.join(training_data_folder, \"right\")\r\n",
    "\r\n",
    "up_images = os.listdir(up_folder)\r\n",
    "down_images = os.listdir(down_folder)\r\n",
    "right_images = os.listdir(right_folder)\r\n",
    "\r\n",
    "up_count = len(up_images)\r\n",
    "down_count = len(down_images)\r\n",
    "right_count = len(right_images)\r\n",
    "\r\n",
    "labels = [\"Up\",\"Down\",\"Right\"]\r\n",
    "plt.bar(labels,[up_count, down_count, right_count])\r\n",
    "plt.show()"
   ],
   "outputs": [
    {
     "output_type": "display_data",
     "data": {
      "image/png": "[encoded data removed]",
      "text/plain": [
       "<Figure size 432x288 with 1 Axes>"
      ]
     },
     "metadata": {
      "needs_background": "light"
     }
    }
   ],
   "metadata": {}
  },
  {
   "cell_type": "markdown",
   "source": [
    "## Preparing the Images for Training\r\n",
    "\r\n",
    "The images are read using OpenCV, converted to grayscale, normalized to values between 0 and 1 and resized to a 40x40 image (scaled down by a factor of 10). They are then unrolled into a vector of 1600 pixels and added to the input feature array. Labels to the images are created based on the name of the image excluding their numbers, eg. up(0) -> up, and added to the known output array."
   ],
   "metadata": {}
  },
  {
   "cell_type": "code",
   "execution_count": 4,
   "source": [
    "X = []\r\n",
    "y = []\r\n",
    "\r\n",
    "folder_list = [up_folder, down_folder, right_folder]\r\n",
    "\r\n",
    "for curr_folder in folder_list:\r\n",
    "    for image_name in os.listdir(curr_folder):\r\n",
    "        label = image_name[:image_name.index(\"(\")]\r\n",
    "\r\n",
    "        image = cv.imread(os.path.join(curr_folder, image_name))\r\n",
    "        grayscale = cv.cvtColor(image, cv.COLOR_BGR2GRAY)\r\n",
    "\r\n",
    "        normalized = grayscale / 255\r\n",
    "        # resized = cv.resize(normalized, (60, 40), interpolation=cv.INTER_AREA)\r\n",
    "        resized = cv.resize(normalized, (40, 40), interpolation=cv.INTER_AREA)\r\n",
    "\r\n",
    "        # Unrolling the matrices into vectors of 2400 pixels.\r\n",
    "        X.append(np.ravel(resized))\r\n",
    "        y.append(label)\r\n",
    "\r\n",
    "X = np.array(X)\r\n",
    "y = np.array(y)\r\n",
    "\r\n",
    "# plt.imshow(np.reshape(X[0], (40,60)), cmap=\"gray\")\r\n",
    "plt.imshow(np.reshape(X[0], (40,40)), cmap=\"gray\")\r\n",
    "plt.title(\"Example of Processed Image (40x40)\")\r\n",
    "\r\n",
    "print(\"Input Array Shape:\",X.shape)\r\n",
    "print(\"Label Array Shape:\",y.shape)"
   ],
   "outputs": [
    {
     "output_type": "stream",
     "name": "stdout",
     "text": [
      "Input Array Shape: (1618, 1600)\n",
      "Label Array Shape: (1618,)\n"
     ]
    },
    {
     "output_type": "display_data",
     "data": {
      "image/png": "[encoded data removed]",
      "text/plain": [
       "<Figure size 432x288 with 1 Axes>"
      ]
     },
     "metadata": {
      "needs_background": "light"
     }
    }
   ],
   "metadata": {}
  },
  {
   "cell_type": "markdown",
   "source": [
    "## Encoding the Categorical Labels (up, down and right) to One-Hot-Encoded\r\n",
    "\r\n",
    "The original labels would be in the form of \"up\", \"down\", or \"right\". One hot encoding is used to represent these categorical data into binary features that can be used to train our network. The data is encoded as follows:\r\n",
    "\r\n",
    "up - [1,0,0]\r\n",
    "\r\n",
    "down - [0,1,0]\r\n",
    "\r\n",
    "right - [0,0,1]"
   ],
   "metadata": {}
  },
  {
   "cell_type": "code",
   "execution_count": 5,
   "source": [
    "encoder = OneHotEncoder(categories=[[\"up\", \"down\", \"right\"]])\r\n",
    "y_encoded = np.array(encoder.fit_transform(y.reshape(-1,1)).toarray())\r\n",
    "\r\n",
    "print(y_encoded[:5, :])\r\n",
    "print(y_encoded.shape)\r\n"
   ],
   "outputs": [
    {
     "output_type": "stream",
     "name": "stdout",
     "text": [
      "[[1. 0. 0.]\n",
      " [1. 0. 0.]\n",
      " [1. 0. 0.]\n",
      " [1. 0. 0.]\n",
      " [1. 0. 0.]]\n",
      "(1618, 3)\n"
     ]
    }
   ],
   "metadata": {}
  },
  {
   "cell_type": "markdown",
   "source": [
    "## Splitting the Dataset into Training and Test Data\r\n",
    "\r\n",
    "The dataset is split into a 80/20 split where 80% of the data is used for the training set and 20% is used for the test set. Due to the nature of the arrangement of the data, the dataset is also shuffled."
   ],
   "metadata": {}
  },
  {
   "cell_type": "code",
   "execution_count": 6,
   "source": [
    "X_train, X_test, y_train, y_test = train_test_split(X, y_encoded, test_size=0.2, shuffle=True)"
   ],
   "outputs": [],
   "metadata": {}
  },
  {
   "cell_type": "markdown",
   "source": [
    "## Configuring the Network\r\n",
    "\r\n",
    "The model is a simple 3 layer densely connected neural network. The input layer has 1600 neurons corresponding to a 40x40 image, the hidden layer has 1000 neurons and the output layer has 3 units."
   ],
   "metadata": {}
  },
  {
   "cell_type": "code",
   "execution_count": 7,
   "source": [
    "model = tf.keras.models.Sequential()\r\n",
    "\r\n",
    "# Hidden Layer\r\n",
    "# model.add(tf.keras.layers.Dense(units=100, input_shape=(2400,), activation=\"relu\"))\r\n",
    "model.add(tf.keras.layers.Dense(units=1000, input_shape=(1600,), activation=\"relu\"))\r\n",
    "# 3 output units, one for each of the possible keys to press.\r\n",
    "model.add(tf.keras.layers.Dense(units=3, activation=\"softmax\"))\r\n",
    "\r\n",
    "model.summary()"
   ],
   "outputs": [
    {
     "output_type": "stream",
     "name": "stdout",
     "text": [
      "Model: \"sequential\"\n",
      "_________________________________________________________________\n",
      "Layer (type)                 Output Shape              Param #   \n",
      "=================================================================\n",
      "dense (Dense)                (None, 1000)              1601000   \n",
      "_________________________________________________________________\n",
      "dense_1 (Dense)              (None, 3)                 3003      \n",
      "=================================================================\n",
      "Total params: 1,604,003\n",
      "Trainable params: 1,604,003\n",
      "Non-trainable params: 0\n",
      "_________________________________________________________________\n"
     ]
    }
   ],
   "metadata": {}
  },
  {
   "cell_type": "markdown",
   "source": [
    "## Compile and Train\r\n",
    "\r\n",
    "The current model is optimized using stochastic gradient descent (sgd) on categorical cross entropy. I also implemented an option to use early stopping while training to monitor and combat overfitting if necessary. To use this, pass ```early_stopping``` into a list of callbacks in ```model.fit()```, eg. ```model.fit(...callbacks=[early_stopping])```"
   ],
   "metadata": {}
  },
  {
   "cell_type": "code",
   "execution_count": 8,
   "source": [
    "model.compile(optimizer=\"sgd\", loss=\"categorical_crossentropy\", metrics=[\"accuracy\"])\r\n",
    "\r\n",
    "early_stopping = tf.keras.callbacks.EarlyStopping(monitor=\"val_loss\", patience=5, verbose=1, mode=\"min\")\r\n",
    "\r\n",
    "history = model.fit(X_train, y_train, batch_size=32, epochs=100, validation_data=(X_test, y_test))"
   ],
   "outputs": [
    {
     "output_type": "stream",
     "name": "stdout",
     "text": [
      "Epoch 1/100\n",
      "41/41 [==============================] - 1s 10ms/step - loss: 0.8827 - accuracy: 0.7110 - val_loss: 0.8671 - val_accuracy: 0.8272\n",
      "Epoch 2/100\n",
      "41/41 [==============================] - 0s 7ms/step - loss: 0.7790 - accuracy: 0.8338 - val_loss: 0.7844 - val_accuracy: 0.9074\n",
      "Epoch 3/100\n",
      "41/41 [==============================] - 0s 7ms/step - loss: 0.7450 - accuracy: 0.8717 - val_loss: 0.7746 - val_accuracy: 0.8241\n",
      "Epoch 4/100\n",
      "41/41 [==============================] - 0s 9ms/step - loss: 0.6997 - accuracy: 0.8671 - val_loss: 0.7476 - val_accuracy: 0.8210\n",
      "Epoch 5/100\n",
      "41/41 [==============================] - 0s 7ms/step - loss: 0.6463 - accuracy: 0.8694 - val_loss: 0.6303 - val_accuracy: 0.8488\n",
      "Epoch 6/100\n",
      "41/41 [==============================] - 0s 7ms/step - loss: 0.6379 - accuracy: 0.8485 - val_loss: 0.6037 - val_accuracy: 0.8889\n",
      "Epoch 7/100\n",
      "41/41 [==============================] - 0s 8ms/step - loss: 0.5846 - accuracy: 0.8586 - val_loss: 0.6700 - val_accuracy: 0.9074\n",
      "Epoch 8/100\n",
      "41/41 [==============================] - 0s 7ms/step - loss: 0.5790 - accuracy: 0.8686 - val_loss: 0.5644 - val_accuracy: 0.9043\n",
      "Epoch 9/100\n",
      "41/41 [==============================] - 0s 7ms/step - loss: 0.5474 - accuracy: 0.8570 - val_loss: 0.5492 - val_accuracy: 0.8580\n",
      "Epoch 10/100\n",
      "41/41 [==============================] - 0s 7ms/step - loss: 0.5149 - accuracy: 0.8671 - val_loss: 0.5049 - val_accuracy: 0.8580\n",
      "Epoch 11/100\n",
      "41/41 [==============================] - 0s 7ms/step - loss: 0.4922 - accuracy: 0.8702 - val_loss: 0.4702 - val_accuracy: 0.8858\n",
      "Epoch 12/100\n",
      "41/41 [==============================] - 0s 7ms/step - loss: 0.4700 - accuracy: 0.8818 - val_loss: 0.5151 - val_accuracy: 0.8426\n",
      "Epoch 13/100\n",
      "41/41 [==============================] - 0s 7ms/step - loss: 0.4658 - accuracy: 0.8733 - val_loss: 0.4859 - val_accuracy: 0.8611\n",
      "Epoch 14/100\n",
      "41/41 [==============================] - 0s 8ms/step - loss: 0.4496 - accuracy: 0.8887 - val_loss: 0.4582 - val_accuracy: 0.9228\n",
      "Epoch 15/100\n",
      "41/41 [==============================] - 0s 9ms/step - loss: 0.4305 - accuracy: 0.8957 - val_loss: 0.4707 - val_accuracy: 0.8642\n",
      "Epoch 16/100\n",
      "41/41 [==============================] - 0s 7ms/step - loss: 0.4184 - accuracy: 0.8957 - val_loss: 0.4113 - val_accuracy: 0.9352\n",
      "Epoch 17/100\n",
      "41/41 [==============================] - 0s 7ms/step - loss: 0.4124 - accuracy: 0.9042 - val_loss: 0.3815 - val_accuracy: 0.8951\n",
      "Epoch 18/100\n",
      "41/41 [==============================] - 0s 8ms/step - loss: 0.3822 - accuracy: 0.9189 - val_loss: 0.4600 - val_accuracy: 0.9444\n",
      "Epoch 19/100\n",
      "41/41 [==============================] - 0s 9ms/step - loss: 0.3937 - accuracy: 0.9049 - val_loss: 0.8589 - val_accuracy: 0.8241\n",
      "Epoch 20/100\n",
      "41/41 [==============================] - 0s 7ms/step - loss: 0.4285 - accuracy: 0.9065 - val_loss: 0.3448 - val_accuracy: 0.9074\n",
      "Epoch 21/100\n",
      "41/41 [==============================] - 0s 8ms/step - loss: 0.3428 - accuracy: 0.9258 - val_loss: 0.3526 - val_accuracy: 0.8981\n",
      "Epoch 22/100\n",
      "41/41 [==============================] - 0s 7ms/step - loss: 0.3490 - accuracy: 0.9150 - val_loss: 0.3346 - val_accuracy: 0.9228\n",
      "Epoch 23/100\n",
      "41/41 [==============================] - 0s 10ms/step - loss: 0.3414 - accuracy: 0.9212 - val_loss: 0.3328 - val_accuracy: 0.9321\n",
      "Epoch 24/100\n",
      "41/41 [==============================] - 0s 7ms/step - loss: 0.3260 - accuracy: 0.9297 - val_loss: 0.3609 - val_accuracy: 0.9228\n",
      "Epoch 25/100\n",
      "41/41 [==============================] - 0s 7ms/step - loss: 0.3280 - accuracy: 0.9258 - val_loss: 0.3012 - val_accuracy: 0.9259\n",
      "Epoch 26/100\n",
      "41/41 [==============================] - 0s 7ms/step - loss: 0.3201 - accuracy: 0.9343 - val_loss: 0.3162 - val_accuracy: 0.9414\n",
      "Epoch 27/100\n",
      "41/41 [==============================] - 0s 7ms/step - loss: 0.3123 - accuracy: 0.9250 - val_loss: 0.4116 - val_accuracy: 0.9228\n",
      "Epoch 28/100\n",
      "41/41 [==============================] - 0s 7ms/step - loss: 0.3096 - accuracy: 0.9343 - val_loss: 0.3588 - val_accuracy: 0.9228\n",
      "Epoch 29/100\n",
      "41/41 [==============================] - 0s 8ms/step - loss: 0.2746 - accuracy: 0.9397 - val_loss: 0.2891 - val_accuracy: 0.9290\n",
      "Epoch 30/100\n",
      "41/41 [==============================] - 0s 8ms/step - loss: 0.2651 - accuracy: 0.9428 - val_loss: 0.2555 - val_accuracy: 0.9259\n",
      "Epoch 31/100\n",
      "41/41 [==============================] - 0s 8ms/step - loss: 0.2689 - accuracy: 0.9359 - val_loss: 0.4565 - val_accuracy: 0.9136\n",
      "Epoch 32/100\n",
      "41/41 [==============================] - 0s 8ms/step - loss: 0.3006 - accuracy: 0.9297 - val_loss: 0.2806 - val_accuracy: 0.9290\n",
      "Epoch 33/100\n",
      "41/41 [==============================] - 0s 7ms/step - loss: 0.2442 - accuracy: 0.9467 - val_loss: 0.3772 - val_accuracy: 0.9228\n",
      "Epoch 34/100\n",
      "41/41 [==============================] - 0s 9ms/step - loss: 0.2428 - accuracy: 0.9451 - val_loss: 0.4777 - val_accuracy: 0.8920\n",
      "Epoch 35/100\n",
      "41/41 [==============================] - 0s 7ms/step - loss: 0.2434 - accuracy: 0.9428 - val_loss: 0.3557 - val_accuracy: 0.9228\n",
      "Epoch 36/100\n",
      "41/41 [==============================] - 0s 8ms/step - loss: 0.2122 - accuracy: 0.9583 - val_loss: 0.3685 - val_accuracy: 0.9228\n",
      "Epoch 37/100\n",
      "41/41 [==============================] - 0s 7ms/step - loss: 0.2199 - accuracy: 0.9490 - val_loss: 0.2627 - val_accuracy: 0.9444\n",
      "Epoch 38/100\n",
      "41/41 [==============================] - 0s 8ms/step - loss: 0.2292 - accuracy: 0.9482 - val_loss: 0.3636 - val_accuracy: 0.9228\n",
      "Epoch 39/100\n",
      "41/41 [==============================] - 0s 10ms/step - loss: 0.2167 - accuracy: 0.9490 - val_loss: 0.2633 - val_accuracy: 0.9290\n",
      "Epoch 40/100\n",
      "41/41 [==============================] - 0s 7ms/step - loss: 0.2267 - accuracy: 0.9436 - val_loss: 0.2506 - val_accuracy: 0.9290\n",
      "Epoch 41/100\n",
      "41/41 [==============================] - 0s 8ms/step - loss: 0.2015 - accuracy: 0.9513 - val_loss: 0.2476 - val_accuracy: 0.9290\n",
      "Epoch 42/100\n",
      "41/41 [==============================] - 0s 8ms/step - loss: 0.2072 - accuracy: 0.9490 - val_loss: 0.1880 - val_accuracy: 0.9444\n",
      "Epoch 43/100\n",
      "41/41 [==============================] - 0s 11ms/step - loss: 0.1954 - accuracy: 0.9552 - val_loss: 0.1920 - val_accuracy: 0.9444\n",
      "Epoch 44/100\n",
      "41/41 [==============================] - 0s 9ms/step - loss: 0.1798 - accuracy: 0.9590 - val_loss: 0.1856 - val_accuracy: 0.9475\n",
      "Epoch 45/100\n",
      "41/41 [==============================] - 0s 9ms/step - loss: 0.1730 - accuracy: 0.9614 - val_loss: 0.1831 - val_accuracy: 0.9444\n",
      "Epoch 46/100\n",
      "41/41 [==============================] - 0s 7ms/step - loss: 0.1763 - accuracy: 0.9544 - val_loss: 0.2026 - val_accuracy: 0.9444\n",
      "Epoch 47/100\n",
      "41/41 [==============================] - 0s 9ms/step - loss: 0.1700 - accuracy: 0.9583 - val_loss: 0.1692 - val_accuracy: 0.9506\n",
      "Epoch 48/100\n",
      "41/41 [==============================] - 0s 8ms/step - loss: 0.1692 - accuracy: 0.9629 - val_loss: 0.2243 - val_accuracy: 0.9444\n",
      "Epoch 49/100\n",
      "41/41 [==============================] - 0s 7ms/step - loss: 0.1612 - accuracy: 0.9629 - val_loss: 0.2204 - val_accuracy: 0.9136\n",
      "Epoch 50/100\n",
      "41/41 [==============================] - 0s 7ms/step - loss: 0.1564 - accuracy: 0.9606 - val_loss: 0.2224 - val_accuracy: 0.9414\n",
      "Epoch 51/100\n",
      "41/41 [==============================] - 0s 8ms/step - loss: 0.1674 - accuracy: 0.9521 - val_loss: 0.2052 - val_accuracy: 0.9136\n",
      "Epoch 52/100\n",
      "41/41 [==============================] - 0s 7ms/step - loss: 0.1521 - accuracy: 0.9683 - val_loss: 0.2454 - val_accuracy: 0.9290\n",
      "Epoch 53/100\n",
      "41/41 [==============================] - 0s 7ms/step - loss: 0.1534 - accuracy: 0.9575 - val_loss: 0.1526 - val_accuracy: 0.9660\n",
      "Epoch 54/100\n",
      "41/41 [==============================] - 0s 7ms/step - loss: 0.1429 - accuracy: 0.9652 - val_loss: 0.2710 - val_accuracy: 0.9475\n",
      "Epoch 55/100\n",
      "41/41 [==============================] - 0s 8ms/step - loss: 0.1540 - accuracy: 0.9683 - val_loss: 0.1498 - val_accuracy: 0.9475\n",
      "Epoch 56/100\n",
      "41/41 [==============================] - 0s 7ms/step - loss: 0.1464 - accuracy: 0.9668 - val_loss: 0.1484 - val_accuracy: 0.9475\n",
      "Epoch 57/100\n",
      "41/41 [==============================] - 0s 7ms/step - loss: 0.1430 - accuracy: 0.9629 - val_loss: 0.1427 - val_accuracy: 0.9630\n",
      "Epoch 58/100\n",
      "41/41 [==============================] - 0s 8ms/step - loss: 0.1293 - accuracy: 0.9722 - val_loss: 0.1396 - val_accuracy: 0.9691\n",
      "Epoch 59/100\n",
      "41/41 [==============================] - 0s 7ms/step - loss: 0.1252 - accuracy: 0.9730 - val_loss: 0.2209 - val_accuracy: 0.9414\n",
      "Epoch 60/100\n",
      "41/41 [==============================] - 0s 7ms/step - loss: 0.1409 - accuracy: 0.9660 - val_loss: 0.1365 - val_accuracy: 0.9599\n",
      "Epoch 61/100\n",
      "41/41 [==============================] - 0s 8ms/step - loss: 0.1242 - accuracy: 0.9706 - val_loss: 0.1688 - val_accuracy: 0.9444\n",
      "Epoch 62/100\n",
      "41/41 [==============================] - 0s 7ms/step - loss: 0.1378 - accuracy: 0.9590 - val_loss: 0.1261 - val_accuracy: 0.9660\n",
      "Epoch 63/100\n",
      "41/41 [==============================] - 0s 7ms/step - loss: 0.1354 - accuracy: 0.9629 - val_loss: 0.1669 - val_accuracy: 0.9475\n",
      "Epoch 64/100\n",
      "41/41 [==============================] - 0s 9ms/step - loss: 0.1198 - accuracy: 0.9683 - val_loss: 0.1796 - val_accuracy: 0.9414\n",
      "Epoch 65/100\n",
      "41/41 [==============================] - 0s 9ms/step - loss: 0.1206 - accuracy: 0.9668 - val_loss: 0.1523 - val_accuracy: 0.9630\n",
      "Epoch 66/100\n",
      "41/41 [==============================] - 0s 7ms/step - loss: 0.1186 - accuracy: 0.9660 - val_loss: 0.1524 - val_accuracy: 0.9444\n",
      "Epoch 67/100\n",
      "41/41 [==============================] - 0s 9ms/step - loss: 0.1204 - accuracy: 0.9691 - val_loss: 0.1576 - val_accuracy: 0.9475\n",
      "Epoch 68/100\n",
      "41/41 [==============================] - 0s 7ms/step - loss: 0.1351 - accuracy: 0.9637 - val_loss: 0.1317 - val_accuracy: 0.9475\n",
      "Epoch 69/100\n",
      "41/41 [==============================] - 0s 7ms/step - loss: 0.1257 - accuracy: 0.9675 - val_loss: 0.1392 - val_accuracy: 0.9475\n",
      "Epoch 70/100\n",
      "41/41 [==============================] - 0s 7ms/step - loss: 0.1079 - accuracy: 0.9753 - val_loss: 0.1251 - val_accuracy: 0.9475\n",
      "Epoch 71/100\n",
      "41/41 [==============================] - 0s 9ms/step - loss: 0.1212 - accuracy: 0.9699 - val_loss: 0.1181 - val_accuracy: 0.9630\n",
      "Epoch 72/100\n",
      "41/41 [==============================] - 0s 7ms/step - loss: 0.1031 - accuracy: 0.9760 - val_loss: 0.1444 - val_accuracy: 0.9475\n",
      "Epoch 73/100\n",
      "41/41 [==============================] - 0s 7ms/step - loss: 0.0993 - accuracy: 0.9753 - val_loss: 0.1151 - val_accuracy: 0.9599\n",
      "Epoch 74/100\n",
      "41/41 [==============================] - 0s 8ms/step - loss: 0.0970 - accuracy: 0.9760 - val_loss: 0.1618 - val_accuracy: 0.9383\n",
      "Epoch 75/100\n",
      "41/41 [==============================] - 0s 7ms/step - loss: 0.1086 - accuracy: 0.9706 - val_loss: 0.1029 - val_accuracy: 0.9660\n",
      "Epoch 76/100\n",
      "41/41 [==============================] - 0s 8ms/step - loss: 0.0975 - accuracy: 0.9760 - val_loss: 0.1659 - val_accuracy: 0.9352\n",
      "Epoch 77/100\n",
      "41/41 [==============================] - 0s 8ms/step - loss: 0.0959 - accuracy: 0.9807 - val_loss: 0.1414 - val_accuracy: 0.9444\n",
      "Epoch 78/100\n",
      "41/41 [==============================] - 0s 7ms/step - loss: 0.0918 - accuracy: 0.9799 - val_loss: 0.1019 - val_accuracy: 0.9691\n",
      "Epoch 79/100\n",
      "41/41 [==============================] - 0s 8ms/step - loss: 0.0884 - accuracy: 0.9799 - val_loss: 0.1845 - val_accuracy: 0.9352\n",
      "Epoch 80/100\n",
      "41/41 [==============================] - 0s 8ms/step - loss: 0.0977 - accuracy: 0.9776 - val_loss: 0.2004 - val_accuracy: 0.9352\n",
      "Epoch 81/100\n",
      "41/41 [==============================] - 0s 8ms/step - loss: 0.1007 - accuracy: 0.9730 - val_loss: 0.0963 - val_accuracy: 0.9691\n",
      "Epoch 82/100\n",
      "41/41 [==============================] - 0s 8ms/step - loss: 0.0848 - accuracy: 0.9815 - val_loss: 0.2011 - val_accuracy: 0.9383\n",
      "Epoch 83/100\n",
      "41/41 [==============================] - 0s 8ms/step - loss: 0.0854 - accuracy: 0.9799 - val_loss: 0.1245 - val_accuracy: 0.9444\n",
      "Epoch 84/100\n",
      "41/41 [==============================] - 0s 8ms/step - loss: 0.0838 - accuracy: 0.9822 - val_loss: 0.0934 - val_accuracy: 0.9630\n",
      "Epoch 85/100\n",
      "41/41 [==============================] - 0s 8ms/step - loss: 0.0866 - accuracy: 0.9830 - val_loss: 0.1132 - val_accuracy: 0.9537\n",
      "Epoch 86/100\n",
      "41/41 [==============================] - 0s 9ms/step - loss: 0.0858 - accuracy: 0.9784 - val_loss: 0.1501 - val_accuracy: 0.9444\n",
      "Epoch 87/100\n",
      "41/41 [==============================] - 0s 8ms/step - loss: 0.0836 - accuracy: 0.9822 - val_loss: 0.1009 - val_accuracy: 0.9630\n",
      "Epoch 88/100\n",
      "41/41 [==============================] - 0s 8ms/step - loss: 0.0722 - accuracy: 0.9869 - val_loss: 0.0905 - val_accuracy: 0.9630\n",
      "Epoch 89/100\n",
      "41/41 [==============================] - 0s 8ms/step - loss: 0.0758 - accuracy: 0.9845 - val_loss: 0.0875 - val_accuracy: 0.9722\n",
      "Epoch 90/100\n",
      "41/41 [==============================] - 0s 8ms/step - loss: 0.0749 - accuracy: 0.9838 - val_loss: 0.0765 - val_accuracy: 0.9815\n",
      "Epoch 91/100\n",
      "41/41 [==============================] - 0s 8ms/step - loss: 0.0803 - accuracy: 0.9815 - val_loss: 0.0932 - val_accuracy: 0.9691\n",
      "Epoch 92/100\n",
      "41/41 [==============================] - 0s 9ms/step - loss: 0.0713 - accuracy: 0.9845 - val_loss: 0.0835 - val_accuracy: 0.9753\n",
      "Epoch 93/100\n",
      "41/41 [==============================] - 0s 8ms/step - loss: 0.0748 - accuracy: 0.9822 - val_loss: 0.0944 - val_accuracy: 0.9630\n",
      "Epoch 94/100\n",
      "41/41 [==============================] - 0s 8ms/step - loss: 0.0722 - accuracy: 0.9845 - val_loss: 0.0780 - val_accuracy: 0.9691\n",
      "Epoch 95/100\n",
      "41/41 [==============================] - 0s 8ms/step - loss: 0.0687 - accuracy: 0.9861 - val_loss: 0.0736 - val_accuracy: 0.9753\n",
      "Epoch 96/100\n",
      "41/41 [==============================] - 0s 8ms/step - loss: 0.0785 - accuracy: 0.9799 - val_loss: 0.1096 - val_accuracy: 0.9506\n",
      "Epoch 97/100\n",
      "41/41 [==============================] - 0s 8ms/step - loss: 0.0761 - accuracy: 0.9830 - val_loss: 0.0736 - val_accuracy: 0.9722\n",
      "Epoch 98/100\n",
      "41/41 [==============================] - 0s 8ms/step - loss: 0.0698 - accuracy: 0.9853 - val_loss: 0.0728 - val_accuracy: 0.9722\n",
      "Epoch 99/100\n",
      "41/41 [==============================] - 0s 8ms/step - loss: 0.0682 - accuracy: 0.9853 - val_loss: 0.0843 - val_accuracy: 0.9660\n",
      "Epoch 100/100\n",
      "41/41 [==============================] - 0s 8ms/step - loss: 0.0633 - accuracy: 0.9876 - val_loss: 0.1213 - val_accuracy: 0.9630\n"
     ]
    }
   ],
   "metadata": {}
  },
  {
   "cell_type": "markdown",
   "source": [
    "## Plotting Learning Curves\r\n",
    "\r\n",
    "Learning curves are plots that plot learning or improvement against time. When training, I also passed in the test set for validation that should theoretically give an idea how well the model is generalizing (I believe better practice would be to another separate cross validation dataset on bigger datasets). With the calculation of both the training loss and validation loss while training, the following cell then makes use of the training history and plots an optimization learning curve.\r\n",
    "\r\n",
    "Ideally, in order to be a good fit, we we would want both the training and validation losses to decrease to a point of stability with a minimal gap between the losses. Training loss should also be lower than the validation loss."
   ],
   "metadata": {}
  },
  {
   "cell_type": "code",
   "execution_count": 9,
   "source": [
    "loss = history.history[\"loss\"]\r\n",
    "val_loss = history.history[\"val_loss\"]\r\n",
    "epoch_axis = [i+1 for i in range(len(loss))]\r\n",
    "\r\n",
    "plt.plot(epoch_axis, loss, label=\"Training Loss\")\r\n",
    "plt.plot(epoch_axis, val_loss, label=\"Validation Loss\")\r\n",
    "plt.title(\"Training vs Validation Loss\")\r\n",
    "plt.xlabel(\"Number of epochs\")\r\n",
    "plt.ylabel(\"Loss\")\r\n",
    "plt.legend()\r\n",
    "plt.show()"
   ],
   "outputs": [
    {
     "output_type": "display_data",
     "data": {
      "image/png": "[encoded data removed]",
      "text/plain": [
       "<Figure size 432x288 with 1 Axes>"
      ]
     },
     "metadata": {
      "needs_background": "light"
     }
    }
   ],
   "metadata": {}
  },
  {
   "cell_type": "markdown",
   "source": [
    "## Model Evaluation\r\n",
    "\r\n",
    "In order to evaluate the model, the cell below creates a classification report to display metrics in terms of precision, recall and the f-score. A confusion matrix is then generated to view where the model made classification errors. Most commonly, as of now, the model slightly misclassifies running to the right as jumping or ducking."
   ],
   "metadata": {}
  },
  {
   "cell_type": "code",
   "execution_count": 10,
   "source": [
    "test_set_predictions = np.argmax(model.predict(X_test), axis=1)\r\n",
    "original_test_output = np.argmax(y_test, axis=1)\r\n",
    "\r\n",
    "test_report = classification_report(original_test_output, test_set_predictions, target_names=labels)\r\n",
    "print(test_report)\r\n",
    "\r\n",
    "matrix = confusion_matrix(original_test_output, test_set_predictions)\r\n",
    "make_confusion_matrix(matrix, categories=labels, figsize=(10,10), title=\"Test Set Confusion Matrix\")"
   ],
   "outputs": [
    {
     "output_type": "stream",
     "name": "stdout",
     "text": [
      "              precision    recall  f1-score   support\n",
      "\n",
      "          Up       0.94      0.99      0.96       135\n",
      "        Down       1.00      0.89      0.94        19\n",
      "       Right       0.98      0.95      0.96       170\n",
      "\n",
      "    accuracy                           0.96       324\n",
      "   macro avg       0.97      0.94      0.96       324\n",
      "weighted avg       0.96      0.96      0.96       324\n",
      "\n"
     ]
    },
    {
     "output_type": "display_data",
     "data": {
      "image/png": "[encoded data removed]",
      "text/plain": [
       "<Figure size 720x720 with 2 Axes>"
      ]
     },
     "metadata": {
      "needs_background": "light"
     }
    }
   ],
   "metadata": {}
  },
  {
   "cell_type": "markdown",
   "source": [
    "## Exporting the Model\r\n",
    "\r\n",
    "The main model which I find to be best performing is saved under \"saved_model\". Hence, at the current time, I don't want to overwrite this. Instead, the following cell will now prompt for a model name which will be saved under a folder called \"test_models\""
   ],
   "metadata": {}
  },
  {
   "cell_type": "code",
   "execution_count": 11,
   "source": [
    "if \"saved_model\" not in os.listdir(parent_dir):\r\n",
    "    os.mkdir(os.path.join(parent_dir, \"saved_model\"))\r\n",
    "    model.save(\"saved_model\")\r\n",
    "    \r\n",
    "else:\r\n",
    "    if \"test_models\" not in os.listdir(parent_dir):\r\n",
    "        os.mkdir(os.path.join(parent_dir, \"test_models\"))\r\n",
    "        \r\n",
    "    test_models_directory = os.path.join(parent_dir, \"test_models\")\r\n",
    "\r\n",
    "    model_name = input(\"Enter the model name:\")\r\n",
    "    model.save(os.path.join(test_models_directory, model_name))"
   ],
   "outputs": [
    {
     "output_type": "stream",
     "name": "stdout",
     "text": [
      "INFO:tensorflow:Assets written to: c:\\Users\\Naim\\Desktop\\Dev Work\\MachineLearning\\dinosaur-game-ai\\test_models\\smaller_more_data\\assets\n"
     ]
    }
   ],
   "metadata": {}
  }
 ],
 "metadata": {
  "orig_nbformat": 4,
  "language_info": {
   "name": "python",
   "version": "3.9.6",
   "mimetype": "text/x-python",
   "codemirror_mode": {
    "name": "ipython",
    "version": 3
   },
   "pygments_lexer": "ipython3",
   "nbconvert_exporter": "python",
   "file_extension": ".py"
  },
  "kernelspec": {
   "name": "python3",
   "display_name": "Python 3.9.6 64-bit"
  },
  "interpreter": {
   "hash": "32ee993759a3779259f6a209bc77407797f20b4ad1f2e949d165c2780a488203"
  }
 },
 "nbformat": 4,
 "nbformat_minor": 2
}