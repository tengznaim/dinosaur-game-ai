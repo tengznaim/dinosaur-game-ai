{
 "cells": [
  {
   "cell_type": "markdown",
   "source": [
    "# Training a Fully Connected Neural Network using Tensorflow"
   ],
   "metadata": {}
  },
  {
   "cell_type": "code",
   "execution_count": 3,
   "source": [
    "import os\r\n",
    "import pandas as pd\r\n",
    "import numpy as np\r\n",
    "import cv2 as cv\r\n",
    "from sklearn.preprocessing import OneHotEncoder\r\n",
    "from sklearn.model_selection import train_test_split\r\n",
    "from sklearn.metrics import confusion_matrix, classification_report\r\n",
    "from cf_matrix import make_confusion_matrix\r\n",
    "import matplotlib.pyplot as plt\r\n",
    "import tensorflow as tf\r\n",
    "from datetime import datetime"
   ],
   "outputs": [],
   "metadata": {}
  },
  {
   "cell_type": "code",
   "execution_count": 5,
   "source": [
    "tf.__version__"
   ],
   "outputs": [
    {
     "output_type": "execute_result",
     "data": {
      "text/plain": [
       "'2.6.0'"
      ]
     },
     "metadata": {},
     "execution_count": 5
    }
   ],
   "metadata": {}
  },
  {
   "cell_type": "markdown",
   "source": [
    "## Loading Training Data\r\n",
    "\r\n",
    "Currently, the data we have is unbalanced and future updates should improve on this."
   ],
   "metadata": {}
  },
  {
   "cell_type": "code",
   "execution_count": 6,
   "source": [
    "parent_dir = os.getcwd()\r\n",
    "training_data_folder = os.path.join(parent_dir, \"training_data\")\r\n",
    "\r\n",
    "up_folder = os.path.join(training_data_folder, \"up\")\r\n",
    "down_folder = os.path.join(training_data_folder, \"down\")\r\n",
    "right_folder = os.path.join(training_data_folder, \"right\")\r\n",
    "\r\n",
    "up_images = os.listdir(up_folder)\r\n",
    "down_images = os.listdir(down_folder)\r\n",
    "right_images = os.listdir(right_folder)\r\n",
    "\r\n",
    "up_count = len(up_images)\r\n",
    "down_count = len(down_images)\r\n",
    "right_count = len(right_images)\r\n",
    "\r\n",
    "labels = [\"Up\",\"Down\",\"Right\"]\r\n",
    "plt.bar(labels,[up_count, down_count, right_count])\r\n",
    "plt.show()"
   ],
   "outputs": [
    {
     "output_type": "display_data",
     "data": {
      "image/png": "[encoded data removed]",
      "text/plain": [
       "<Figure size 432x288 with 1 Axes>"
      ]
     },
     "metadata": {
      "needs_background": "light"
     }
    }
   ],
   "metadata": {}
  },
  {
   "cell_type": "markdown",
   "source": [
    "## Preparing the Images for Training"
   ],
   "metadata": {}
  },
  {
   "cell_type": "code",
   "execution_count": 9,
   "source": [
    "X = []\r\n",
    "y = []\r\n",
    "\r\n",
    "folder_list = [up_folder, down_folder, right_folder]\r\n",
    "\r\n",
    "for curr_folder in folder_list:\r\n",
    "    for image_name in os.listdir(curr_folder):\r\n",
    "        label = image_name[:image_name.index(\"(\")]\r\n",
    "\r\n",
    "        image = cv.imread(os.path.join(curr_folder, image_name))\r\n",
    "        grayscale = cv.cvtColor(image, cv.COLOR_BGR2GRAY)\r\n",
    "\r\n",
    "        normalized = grayscale / 255\r\n",
    "        resized = cv.resize(normalized, (60, 40), interpolation=cv.INTER_AREA)\r\n",
    "\r\n",
    "        # Unrolling the matrices into vectors of 2400 pixels.\r\n",
    "        X.append(np.ravel(resized))\r\n",
    "        y.append(label)\r\n",
    "\r\n",
    "X = np.array(X)\r\n",
    "y = np.array(y)\r\n",
    "\r\n",
    "plt.imshow(np.reshape(X[0], (40,60)), cmap=\"gray\")\r\n",
    "plt.title(\"Example of Processed Image (60x40)\")\r\n",
    "\r\n",
    "print(\"Input Array Shape:\",X.shape)\r\n",
    "print(\"Label Array Shape:\",y.shape)"
   ],
   "outputs": [
    {
     "output_type": "stream",
     "name": "stdout",
     "text": [
      "Input Array Shape: (2080, 2400)\n",
      "Label Array Shape: (2080,)\n"
     ]
    },
    {
     "output_type": "display_data",
     "data": {
      "image/png": "[encoded data removed]",
      "text/plain": [
       "<Figure size 432x288 with 1 Axes>"
      ]
     },
     "metadata": {
      "needs_background": "light"
     }
    }
   ],
   "metadata": {}
  },
  {
   "cell_type": "markdown",
   "source": [
    "## Encoding the Categorical Labels (up, down and right) to One-Hot-Encoded"
   ],
   "metadata": {}
  },
  {
   "cell_type": "code",
   "execution_count": 11,
   "source": [
    "encoder = OneHotEncoder(categories=[[\"up\", \"down\", \"right\"]])\r\n",
    "y_encoded = np.array(encoder.fit_transform(y.reshape(-1,1)).toarray())\r\n",
    "\r\n",
    "print(y_encoded[:5, :])\r\n",
    "print(y_encoded.shape)\r\n"
   ],
   "outputs": [
    {
     "output_type": "stream",
     "name": "stdout",
     "text": [
      "[[1. 0. 0.]\n",
      " [1. 0. 0.]\n",
      " [1. 0. 0.]\n",
      " [1. 0. 0.]\n",
      " [1. 0. 0.]]\n",
      "(2080, 3)\n"
     ]
    }
   ],
   "metadata": {}
  },
  {
   "cell_type": "markdown",
   "source": [
    "## Splitting the Dataset into Training and Test Data"
   ],
   "metadata": {}
  },
  {
   "cell_type": "code",
   "execution_count": 12,
   "source": [
    "X_train, X_test, y_train, y_test = train_test_split(X, y_encoded, test_size=0.2, shuffle=True)"
   ],
   "outputs": [],
   "metadata": {}
  },
  {
   "cell_type": "markdown",
   "source": [
    "## Configuring the Network"
   ],
   "metadata": {}
  },
  {
   "cell_type": "code",
   "execution_count": 14,
   "source": [
    "model = tf.keras.models.Sequential()\r\n",
    "\r\n",
    "# Hidden Layer\r\n",
    "model.add(tf.keras.layers.Dense(units=100, input_shape=(2400,), activation=\"relu\"))\r\n",
    "# 3 output units, one for each of the possible keys to press.\r\n",
    "model.add(tf.keras.layers.Dense(units=3, activation=\"softmax\"))\r\n",
    "\r\n",
    "model.summary()"
   ],
   "outputs": [
    {
     "output_type": "stream",
     "name": "stdout",
     "text": [
      "Model: \"sequential\"\n",
      "_________________________________________________________________\n",
      "Layer (type)                 Output Shape              Param #   \n",
      "=================================================================\n",
      "dense (Dense)                (None, 100)               240100    \n",
      "_________________________________________________________________\n",
      "dense_1 (Dense)              (None, 3)                 303       \n",
      "=================================================================\n",
      "Total params: 240,403\n",
      "Trainable params: 240,403\n",
      "Non-trainable params: 0\n",
      "_________________________________________________________________\n"
     ]
    }
   ],
   "metadata": {}
  },
  {
   "cell_type": "markdown",
   "source": [
    "## Compile and Train"
   ],
   "metadata": {}
  },
  {
   "cell_type": "code",
   "execution_count": 17,
   "source": [
    "model.compile(optimizer=\"adam\", loss=\"categorical_crossentropy\", metrics=[\"accuracy\"])\r\n",
    "model.fit(X_train, y_train, batch_size=32, epochs=100)"
   ],
   "outputs": [
    {
     "output_type": "stream",
     "name": "stdout",
     "text": [
      "Epoch 1/100\n",
      "52/52 [==============================] - 1s 3ms/step - loss: 1.1523 - accuracy: 0.5042\n",
      "Epoch 2/100\n",
      "52/52 [==============================] - 0s 2ms/step - loss: 0.9263 - accuracy: 0.6166\n",
      "Epoch 3/100\n",
      "52/52 [==============================] - 0s 2ms/step - loss: 0.9485 - accuracy: 0.6316\n",
      "Epoch 4/100\n",
      "52/52 [==============================] - 0s 2ms/step - loss: 0.9349 - accuracy: 0.6460\n",
      "Epoch 5/100\n",
      "52/52 [==============================] - 0s 2ms/step - loss: 0.8452 - accuracy: 0.6791\n",
      "Epoch 6/100\n",
      "52/52 [==============================] - 0s 2ms/step - loss: 0.9031 - accuracy: 0.6575\n",
      "Epoch 7/100\n",
      "52/52 [==============================] - 0s 2ms/step - loss: 0.8812 - accuracy: 0.6917\n",
      "Epoch 8/100\n",
      "52/52 [==============================] - 0s 2ms/step - loss: 0.8488 - accuracy: 0.6965\n",
      "Epoch 9/100\n",
      "52/52 [==============================] - 0s 2ms/step - loss: 0.8055 - accuracy: 0.7218\n",
      "Epoch 10/100\n",
      "52/52 [==============================] - 0s 3ms/step - loss: 0.8553 - accuracy: 0.7145\n",
      "Epoch 11/100\n",
      "52/52 [==============================] - 0s 2ms/step - loss: 0.8908 - accuracy: 0.7157\n",
      "Epoch 12/100\n",
      "52/52 [==============================] - 0s 2ms/step - loss: 0.7754 - accuracy: 0.7236\n",
      "Epoch 13/100\n",
      "52/52 [==============================] - 0s 3ms/step - loss: 0.7257 - accuracy: 0.7326\n",
      "Epoch 14/100\n",
      "52/52 [==============================] - 0s 3ms/step - loss: 0.6988 - accuracy: 0.7344\n",
      "Epoch 15/100\n",
      "52/52 [==============================] - 0s 2ms/step - loss: 0.6649 - accuracy: 0.7482\n",
      "Epoch 16/100\n",
      "52/52 [==============================] - 0s 2ms/step - loss: 0.6488 - accuracy: 0.7614\n",
      "Epoch 17/100\n",
      "52/52 [==============================] - 0s 2ms/step - loss: 0.6735 - accuracy: 0.7608\n",
      "Epoch 18/100\n",
      "52/52 [==============================] - 0s 2ms/step - loss: 0.6624 - accuracy: 0.7458\n",
      "Epoch 19/100\n",
      "52/52 [==============================] - 0s 2ms/step - loss: 0.6173 - accuracy: 0.7698\n",
      "Epoch 20/100\n",
      "52/52 [==============================] - 0s 2ms/step - loss: 0.5514 - accuracy: 0.7740\n",
      "Epoch 21/100\n",
      "52/52 [==============================] - 0s 2ms/step - loss: 0.5520 - accuracy: 0.7728\n",
      "Epoch 22/100\n",
      "52/52 [==============================] - 0s 2ms/step - loss: 0.5354 - accuracy: 0.7879\n",
      "Epoch 23/100\n",
      "52/52 [==============================] - 0s 2ms/step - loss: 0.5254 - accuracy: 0.7800\n",
      "Epoch 24/100\n",
      "52/52 [==============================] - 0s 2ms/step - loss: 0.5034 - accuracy: 0.7951\n",
      "Epoch 25/100\n",
      "52/52 [==============================] - 0s 2ms/step - loss: 0.4709 - accuracy: 0.7981\n",
      "Epoch 26/100\n",
      "52/52 [==============================] - 0s 2ms/step - loss: 0.4579 - accuracy: 0.7999\n",
      "Epoch 27/100\n",
      "52/52 [==============================] - 0s 2ms/step - loss: 0.5014 - accuracy: 0.7951\n",
      "Epoch 28/100\n",
      "52/52 [==============================] - 0s 2ms/step - loss: 0.4825 - accuracy: 0.8077\n",
      "Epoch 29/100\n",
      "52/52 [==============================] - 0s 2ms/step - loss: 0.4495 - accuracy: 0.8101\n",
      "Epoch 30/100\n",
      "52/52 [==============================] - 0s 3ms/step - loss: 0.4820 - accuracy: 0.8137\n",
      "Epoch 31/100\n",
      "52/52 [==============================] - 0s 2ms/step - loss: 0.4571 - accuracy: 0.8059\n",
      "Epoch 32/100\n",
      "52/52 [==============================] - 0s 2ms/step - loss: 0.4756 - accuracy: 0.8125\n",
      "Epoch 33/100\n",
      "52/52 [==============================] - 0s 2ms/step - loss: 0.4716 - accuracy: 0.8197\n",
      "Epoch 34/100\n",
      "52/52 [==============================] - 0s 2ms/step - loss: 0.4815 - accuracy: 0.8095\n",
      "Epoch 35/100\n",
      "52/52 [==============================] - 0s 2ms/step - loss: 0.4110 - accuracy: 0.8347\n",
      "Epoch 36/100\n",
      "52/52 [==============================] - 0s 2ms/step - loss: 0.3934 - accuracy: 0.8335\n",
      "Epoch 37/100\n",
      "52/52 [==============================] - 0s 2ms/step - loss: 0.3890 - accuracy: 0.8450\n",
      "Epoch 38/100\n",
      "52/52 [==============================] - 0s 2ms/step - loss: 0.3866 - accuracy: 0.8431\n",
      "Epoch 39/100\n",
      "52/52 [==============================] - 0s 2ms/step - loss: 0.3697 - accuracy: 0.8480\n",
      "Epoch 40/100\n",
      "52/52 [==============================] - 0s 2ms/step - loss: 0.3648 - accuracy: 0.8492\n",
      "Epoch 41/100\n",
      "52/52 [==============================] - 0s 2ms/step - loss: 0.3614 - accuracy: 0.8540\n",
      "Epoch 42/100\n",
      "52/52 [==============================] - 0s 3ms/step - loss: 0.3609 - accuracy: 0.8540\n",
      "Epoch 43/100\n",
      "52/52 [==============================] - 0s 2ms/step - loss: 0.3922 - accuracy: 0.8395\n",
      "Epoch 44/100\n",
      "52/52 [==============================] - 0s 2ms/step - loss: 0.3624 - accuracy: 0.8510\n",
      "Epoch 45/100\n",
      "52/52 [==============================] - 0s 2ms/step - loss: 0.3486 - accuracy: 0.8564\n",
      "Epoch 46/100\n",
      "52/52 [==============================] - 0s 2ms/step - loss: 0.3624 - accuracy: 0.8444\n",
      "Epoch 47/100\n",
      "52/52 [==============================] - 0s 2ms/step - loss: 0.3680 - accuracy: 0.8528\n",
      "Epoch 48/100\n",
      "52/52 [==============================] - 0s 2ms/step - loss: 0.3246 - accuracy: 0.8660\n",
      "Epoch 49/100\n",
      "52/52 [==============================] - 0s 2ms/step - loss: 0.3122 - accuracy: 0.8750\n",
      "Epoch 50/100\n",
      "52/52 [==============================] - 0s 2ms/step - loss: 0.3183 - accuracy: 0.8690\n",
      "Epoch 51/100\n",
      "52/52 [==============================] - 0s 2ms/step - loss: 0.3206 - accuracy: 0.8684\n",
      "Epoch 52/100\n",
      "52/52 [==============================] - 0s 2ms/step - loss: 0.3184 - accuracy: 0.8594\n",
      "Epoch 53/100\n",
      "52/52 [==============================] - 0s 2ms/step - loss: 0.2985 - accuracy: 0.8798\n",
      "Epoch 54/100\n",
      "52/52 [==============================] - 0s 2ms/step - loss: 0.3034 - accuracy: 0.8774\n",
      "Epoch 55/100\n",
      "52/52 [==============================] - 0s 2ms/step - loss: 0.2953 - accuracy: 0.8822\n",
      "Epoch 56/100\n",
      "52/52 [==============================] - 0s 2ms/step - loss: 0.2887 - accuracy: 0.8822\n",
      "Epoch 57/100\n",
      "52/52 [==============================] - 0s 2ms/step - loss: 0.3181 - accuracy: 0.8690\n",
      "Epoch 58/100\n",
      "52/52 [==============================] - 0s 2ms/step - loss: 0.2997 - accuracy: 0.8774\n",
      "Epoch 59/100\n",
      "52/52 [==============================] - 0s 2ms/step - loss: 0.2878 - accuracy: 0.8738\n",
      "Epoch 60/100\n",
      "52/52 [==============================] - 0s 2ms/step - loss: 0.2752 - accuracy: 0.8876\n",
      "Epoch 61/100\n",
      "52/52 [==============================] - 0s 2ms/step - loss: 0.2996 - accuracy: 0.8792\n",
      "Epoch 62/100\n",
      "52/52 [==============================] - 0s 2ms/step - loss: 0.2747 - accuracy: 0.8804\n",
      "Epoch 63/100\n",
      "52/52 [==============================] - 0s 2ms/step - loss: 0.2989 - accuracy: 0.8714\n",
      "Epoch 64/100\n",
      "52/52 [==============================] - 0s 2ms/step - loss: 0.2974 - accuracy: 0.8720\n",
      "Epoch 65/100\n",
      "52/52 [==============================] - 0s 2ms/step - loss: 0.2899 - accuracy: 0.8768\n",
      "Epoch 66/100\n",
      "52/52 [==============================] - 0s 2ms/step - loss: 0.3135 - accuracy: 0.8798\n",
      "Epoch 67/100\n",
      "52/52 [==============================] - 0s 2ms/step - loss: 0.2973 - accuracy: 0.8858\n",
      "Epoch 68/100\n",
      "52/52 [==============================] - 0s 2ms/step - loss: 0.2891 - accuracy: 0.8810\n",
      "Epoch 69/100\n",
      "52/52 [==============================] - 0s 2ms/step - loss: 0.2965 - accuracy: 0.8768\n",
      "Epoch 70/100\n",
      "52/52 [==============================] - 0s 2ms/step - loss: 0.2958 - accuracy: 0.8840\n",
      "Epoch 71/100\n",
      "52/52 [==============================] - 0s 2ms/step - loss: 0.2579 - accuracy: 0.8948\n",
      "Epoch 72/100\n",
      "52/52 [==============================] - 0s 2ms/step - loss: 0.2426 - accuracy: 0.9099\n",
      "Epoch 73/100\n",
      "52/52 [==============================] - 0s 2ms/step - loss: 0.2448 - accuracy: 0.8972\n",
      "Epoch 74/100\n",
      "52/52 [==============================] - 0s 2ms/step - loss: 0.2635 - accuracy: 0.8906\n",
      "Epoch 75/100\n",
      "52/52 [==============================] - 0s 2ms/step - loss: 0.2755 - accuracy: 0.8870\n",
      "Epoch 76/100\n",
      "52/52 [==============================] - 0s 2ms/step - loss: 0.3027 - accuracy: 0.8906\n",
      "Epoch 77/100\n",
      "52/52 [==============================] - 0s 2ms/step - loss: 0.2897 - accuracy: 0.8822\n",
      "Epoch 78/100\n",
      "52/52 [==============================] - 0s 2ms/step - loss: 0.2426 - accuracy: 0.9038\n",
      "Epoch 79/100\n",
      "52/52 [==============================] - 0s 2ms/step - loss: 0.2583 - accuracy: 0.8930\n",
      "Epoch 80/100\n",
      "52/52 [==============================] - 0s 2ms/step - loss: 0.2386 - accuracy: 0.9014\n",
      "Epoch 81/100\n",
      "52/52 [==============================] - 0s 2ms/step - loss: 0.3333 - accuracy: 0.8720\n",
      "Epoch 82/100\n",
      "52/52 [==============================] - 0s 2ms/step - loss: 0.2644 - accuracy: 0.8864\n",
      "Epoch 83/100\n",
      "52/52 [==============================] - 0s 2ms/step - loss: 0.2746 - accuracy: 0.8876\n",
      "Epoch 84/100\n",
      "52/52 [==============================] - 0s 2ms/step - loss: 0.2381 - accuracy: 0.8954\n",
      "Epoch 85/100\n",
      "52/52 [==============================] - 0s 3ms/step - loss: 0.2328 - accuracy: 0.8996\n",
      "Epoch 86/100\n",
      "52/52 [==============================] - 0s 2ms/step - loss: 0.2358 - accuracy: 0.8978\n",
      "Epoch 87/100\n",
      "52/52 [==============================] - 0s 2ms/step - loss: 0.2160 - accuracy: 0.9117\n",
      "Epoch 88/100\n",
      "52/52 [==============================] - 0s 2ms/step - loss: 0.2264 - accuracy: 0.8990\n",
      "Epoch 89/100\n",
      "52/52 [==============================] - 0s 2ms/step - loss: 0.2354 - accuracy: 0.8966\n",
      "Epoch 90/100\n",
      "52/52 [==============================] - 0s 2ms/step - loss: 0.2361 - accuracy: 0.8972\n",
      "Epoch 91/100\n",
      "52/52 [==============================] - 0s 2ms/step - loss: 0.2333 - accuracy: 0.9026\n",
      "Epoch 92/100\n",
      "52/52 [==============================] - 0s 2ms/step - loss: 0.2336 - accuracy: 0.9050\n",
      "Epoch 93/100\n",
      "52/52 [==============================] - 0s 2ms/step - loss: 0.2283 - accuracy: 0.9050\n",
      "Epoch 94/100\n",
      "52/52 [==============================] - 0s 2ms/step - loss: 0.2367 - accuracy: 0.8996\n",
      "Epoch 95/100\n",
      "52/52 [==============================] - 0s 2ms/step - loss: 0.2108 - accuracy: 0.9123\n",
      "Epoch 96/100\n",
      "52/52 [==============================] - 0s 2ms/step - loss: 0.2305 - accuracy: 0.9056\n",
      "Epoch 97/100\n",
      "52/52 [==============================] - 0s 2ms/step - loss: 0.2103 - accuracy: 0.9135\n",
      "Epoch 98/100\n",
      "52/52 [==============================] - 0s 2ms/step - loss: 0.2111 - accuracy: 0.9135\n",
      "Epoch 99/100\n",
      "52/52 [==============================] - 0s 2ms/step - loss: 0.2119 - accuracy: 0.9153\n",
      "Epoch 100/100\n",
      "52/52 [==============================] - 0s 2ms/step - loss: 0.2002 - accuracy: 0.9183\n"
     ]
    },
    {
     "output_type": "execute_result",
     "data": {
      "text/plain": [
       "<keras.callbacks.History at 0x24e68305190>"
      ]
     },
     "metadata": {},
     "execution_count": 17
    }
   ],
   "metadata": {}
  },
  {
   "cell_type": "markdown",
   "source": [
    "## Model Evaluation"
   ],
   "metadata": {}
  },
  {
   "cell_type": "code",
   "execution_count": 23,
   "source": [
    "metrics = model.evaluate(X_test, y_test)\r\n",
    "\r\n",
    "test_set_predictions = np.argmax(model.predict(X_test), axis=1)\r\n",
    "original_test_output = np.argmax(y_test, axis=1)\r\n",
    "\r\n",
    "test_report = classification_report(original_test_output, test_set_predictions, target_names=labels)\r\n",
    "print(test_report)\r\n",
    "\r\n",
    "matrix = confusion_matrix(original_test_output, test_set_predictions)\r\n",
    "make_confusion_matrix(matrix, categories=labels, figsize=(10,10), title=\"Test Set Confusion Matrix\")"
   ],
   "outputs": [
    {
     "output_type": "stream",
     "name": "stdout",
     "text": [
      "13/13 [==============================] - 0s 2ms/step - loss: 0.3256 - accuracy: 0.8630\n",
      "              precision    recall  f1-score   support\n",
      "\n",
      "          Up       0.85      0.88      0.86       180\n",
      "        Down       0.92      0.89      0.90        37\n",
      "       Right       0.87      0.84      0.85       199\n",
      "\n",
      "    accuracy                           0.86       416\n",
      "   macro avg       0.88      0.87      0.87       416\n",
      "weighted avg       0.86      0.86      0.86       416\n",
      "\n"
     ]
    },
    {
     "output_type": "display_data",
     "data": {
      "image/png": "[encoded data removed]",
      "text/plain": [
       "<Figure size 720x720 with 2 Axes>"
      ]
     },
     "metadata": {
      "needs_background": "light"
     }
    }
   ],
   "metadata": {}
  },
  {
   "cell_type": "markdown",
   "source": [
    "## Exporting the Model\r\n",
    "\r\n",
    "The main model which I find to be best performing is saved under \"saved_model\". Hence, at the current time, I don't want to overwrite this. Instead, the following cell will now prompt for a model name which will be saved under a folder called \"test_models\""
   ],
   "metadata": {}
  },
  {
   "cell_type": "code",
   "execution_count": 20,
   "source": [
    "if \"saved_model\" not in os.listdir(parent_dir):\r\n",
    "    os.mkdir(os.path.join(parent_dir, \"saved_model\"))\r\n",
    "    model.save(\"saved_model\")\r\n",
    "    \r\n",
    "else:\r\n",
    "    if \"test_models\" not in os.listdir(parent_dir):\r\n",
    "        os.mkdir(os.path.join(parent_dir, \"test_models\"))\r\n",
    "    test_models_directory = os.path.join(parent_dir, \"test_models\")\r\n",
    "\r\n",
    "    model_name = input(\"Enter the model name:\")\r\n",
    "    model.save(f\"{test_models_directory}/{model_name}\")"
   ],
   "outputs": [
    {
     "output_type": "stream",
     "name": "stdout",
     "text": [
      "INFO:tensorflow:Assets written to: c:\\Users\\Naim\\Desktop\\Dev Work\\MachineLearning\\dinosaur-game-ai\\test_models/test_model_7_Sept_v1\\assets\n"
     ]
    }
   ],
   "metadata": {}
  }
 ],
 "metadata": {
  "orig_nbformat": 4,
  "language_info": {
   "name": "python",
   "version": "3.9.6",
   "mimetype": "text/x-python",
   "codemirror_mode": {
    "name": "ipython",
    "version": 3
   },
   "pygments_lexer": "ipython3",
   "nbconvert_exporter": "python",
   "file_extension": ".py"
  },
  "kernelspec": {
   "name": "python3",
   "display_name": "Python 3.9.6 64-bit"
  },
  "interpreter": {
   "hash": "32ee993759a3779259f6a209bc77407797f20b4ad1f2e949d165c2780a488203"
  }
 },
 "nbformat": 4,
 "nbformat_minor": 2
}