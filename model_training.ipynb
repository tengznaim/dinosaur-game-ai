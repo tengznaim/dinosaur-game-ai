{
 "cells": [
  {
   "cell_type": "markdown",
   "source": [
    "# Training a Fully Connected Neural Network using Tensorflow"
   ],
   "metadata": {}
  },
  {
   "cell_type": "code",
   "execution_count": 5,
   "source": [
    "import os\r\n",
    "import pandas as pd\r\n",
    "import numpy as np\r\n",
    "import matplotlib.pyplot as plt\r\n",
    "import tensorflow as tf"
   ],
   "outputs": [],
   "metadata": {}
  },
  {
   "cell_type": "code",
   "execution_count": 6,
   "source": [
    "tf.__version__"
   ],
   "outputs": [
    {
     "output_type": "execute_result",
     "data": {
      "text/plain": [
       "'2.6.0'"
      ]
     },
     "metadata": {},
     "execution_count": 6
    }
   ],
   "metadata": {}
  },
  {
   "cell_type": "markdown",
   "source": [
    "## Loading Training Data"
   ],
   "metadata": {}
  },
  {
   "cell_type": "code",
   "execution_count": 7,
   "source": [
    "parent_dir = os.getcwd()\r\n",
    "training_data_folder = os.path.join(parent_dir, \"training_data\")\r\n",
    "\r\n",
    "up_folder = os.path.join(training_data_folder, \"up\")\r\n",
    "down_folder = os.path.join(training_data_folder, \"down\")\r\n",
    "right_folder = os.path.join(training_data_folder, \"right\")\r\n",
    "\r\n",
    "up_images = os.listdir(up_folder)\r\n",
    "down_images = os.listdir(down_folder)\r\n",
    "right_images = os.listdir(right_folder)\r\n",
    "\r\n",
    "up_count = len(up_images)\r\n",
    "down_count = len(down_images)\r\n",
    "right_count = len(right_images)\r\n",
    "\r\n",
    "labels = [\"Up\",\"Down\",\"Right\"]\r\n",
    "plt.bar(labels,[up_count, down_count, right_count])\r\n",
    "plt.show()"
   ],
   "outputs": [
    {
     "output_type": "display_data",
     "data": {
      "image/png": "[encoded data removed]",
      "text/plain": [
       "<Figure size 432x288 with 1 Axes>"
      ]
     },
     "metadata": {
      "needs_background": "light"
     }
    }
   ],
   "metadata": {}
  },
  {
   "cell_type": "markdown",
   "source": [
    "## Configuring the Network"
   ],
   "metadata": {}
  },
  {
   "cell_type": "code",
   "execution_count": null,
   "source": [
    "model = tf.keras.models.Sequential()\r\n",
    "\r\n",
    "# 3 output units, one for each of the possible keys to press.\r\n",
    "model.add(tf.keras.layers.Dense(units=3, activation=\"sigmoid\"))"
   ],
   "outputs": [],
   "metadata": {}
  }
 ],
 "metadata": {
  "orig_nbformat": 4,
  "language_info": {
   "name": "python",
   "version": "3.9.6",
   "mimetype": "text/x-python",
   "codemirror_mode": {
    "name": "ipython",
    "version": 3
   },
   "pygments_lexer": "ipython3",
   "nbconvert_exporter": "python",
   "file_extension": ".py"
  },
  "kernelspec": {
   "name": "python3",
   "display_name": "Python 3.9.6 64-bit"
  },
  "interpreter": {
   "hash": "32ee993759a3779259f6a209bc77407797f20b4ad1f2e949d165c2780a488203"
  }
 },
 "nbformat": 4,
 "nbformat_minor": 2
}