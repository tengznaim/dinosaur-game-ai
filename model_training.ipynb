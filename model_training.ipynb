{
 "cells": [
  {
   "cell_type": "markdown",
   "source": [
    "# Training a Fully Connected Neural Network using Tensorflow"
   ],
   "metadata": {}
  },
  {
   "cell_type": "code",
   "execution_count": 1,
   "source": [
    "import os\r\n",
    "import pandas as pd\r\n",
    "import numpy as np\r\n",
    "import cv2 as cv\r\n",
    "from sklearn.preprocessing import OneHotEncoder\r\n",
    "from sklearn.model_selection import train_test_split\r\n",
    "import matplotlib.pyplot as plt\r\n",
    "import tensorflow as tf"
   ],
   "outputs": [],
   "metadata": {}
  },
  {
   "cell_type": "code",
   "execution_count": 2,
   "source": [
    "tf.__version__"
   ],
   "outputs": [
    {
     "output_type": "execute_result",
     "data": {
      "text/plain": [
       "'2.6.0'"
      ]
     },
     "metadata": {},
     "execution_count": 2
    }
   ],
   "metadata": {}
  },
  {
   "cell_type": "markdown",
   "source": [
    "## Loading Training Data\r\n",
    "\r\n",
    "Currently, the data we have is unbalanced and future updates should improve on this."
   ],
   "metadata": {}
  },
  {
   "cell_type": "code",
   "execution_count": 3,
   "source": [
    "parent_dir = os.getcwd()\r\n",
    "training_data_folder = os.path.join(parent_dir, \"training_data\")\r\n",
    "\r\n",
    "up_folder = os.path.join(training_data_folder, \"up\")\r\n",
    "down_folder = os.path.join(training_data_folder, \"down\")\r\n",
    "right_folder = os.path.join(training_data_folder, \"right\")\r\n",
    "\r\n",
    "up_images = os.listdir(up_folder)\r\n",
    "down_images = os.listdir(down_folder)\r\n",
    "right_images = os.listdir(right_folder)\r\n",
    "\r\n",
    "up_count = len(up_images)\r\n",
    "down_count = len(down_images)\r\n",
    "right_count = len(right_images)\r\n",
    "\r\n",
    "labels = [\"Up\",\"Down\",\"Right\"]\r\n",
    "plt.bar(labels,[up_count, down_count, right_count])\r\n",
    "plt.show()"
   ],
   "outputs": [
    {
     "output_type": "display_data",
     "data": {
      "image/png": "[encoded data removed]",
      "text/plain": [
       "<Figure size 432x288 with 1 Axes>"
      ]
     },
     "metadata": {
      "needs_background": "light"
     }
    }
   ],
   "metadata": {}
  },
  {
   "cell_type": "markdown",
   "source": [
    "## Preparing the Images for Training"
   ],
   "metadata": {}
  },
  {
   "cell_type": "code",
   "execution_count": 4,
   "source": [
    "X = []\r\n",
    "y = []\r\n",
    "\r\n",
    "folder_list = [up_folder, down_folder, right_folder]\r\n",
    "\r\n",
    "for curr_folder in folder_list:\r\n",
    "    for image_name in os.listdir(curr_folder):\r\n",
    "        label = image_name[:image_name.index(\"(\")]\r\n",
    "\r\n",
    "        image = cv.imread(os.path.join(curr_folder, image_name))\r\n",
    "        grayscale = cv.cvtColor(image, cv.COLOR_BGR2GRAY)\r\n",
    "\r\n",
    "        normalized = grayscale / 255\r\n",
    "        resized = cv.resize(normalized, (60, 40), interpolation=cv.INTER_AREA)\r\n",
    "\r\n",
    "        # Unrolling the matrices into vectors of 2400 pixels.\r\n",
    "        X.append(np.ravel(resized))\r\n",
    "        y.append(label)\r\n",
    "\r\n",
    "X = np.array(X)\r\n",
    "y = np.array(y)\r\n",
    "\r\n",
    "plt.imshow(np.reshape(X[0], (40,60)), cmap=\"gray\")\r\n",
    "plt.title(\"Example of Processed Image (60x40)\")\r\n",
    "\r\n",
    "print(\"Input Array Shape:\",X.shape)\r\n",
    "print(\"Label Array Shape:\",y.shape)"
   ],
   "outputs": [
    {
     "output_type": "stream",
     "name": "stdout",
     "text": [
      "Input Array Shape: (1358, 2400)\n",
      "Label Array Shape: (1358,)\n"
     ]
    },
    {
     "output_type": "display_data",
     "data": {
      "image/png": "[encoded data removed]",
      "text/plain": [
       "<Figure size 432x288 with 1 Axes>"
      ]
     },
     "metadata": {
      "needs_background": "light"
     }
    }
   ],
   "metadata": {}
  },
  {
   "cell_type": "markdown",
   "source": [
    "## Encoding the Categorical Labels (up, down and right) to One-Hot-Encoded"
   ],
   "metadata": {}
  },
  {
   "cell_type": "code",
   "execution_count": 5,
   "source": [
    "encoder = OneHotEncoder(categories=[[\"up\", \"down\", \"right\"]])\r\n",
    "y_encoded = np.array(encoder.fit_transform(y.reshape(-1,1)).toarray())\r\n",
    "\r\n",
    "print(y_encoded[:5, :])\r\n",
    "print(y_encoded.shape)\r\n"
   ],
   "outputs": [
    {
     "output_type": "stream",
     "name": "stdout",
     "text": [
      "[[1. 0. 0.]\n",
      " [1. 0. 0.]\n",
      " [1. 0. 0.]\n",
      " [1. 0. 0.]\n",
      " [1. 0. 0.]]\n",
      "(1358, 3)\n"
     ]
    }
   ],
   "metadata": {}
  },
  {
   "cell_type": "markdown",
   "source": [
    "## Splitting the Dataset into Training and Test Data"
   ],
   "metadata": {}
  },
  {
   "cell_type": "code",
   "execution_count": 6,
   "source": [
    "X_train, X_test, y_train, y_test = train_test_split(X, y_encoded, test_size=0.2, shuffle=True)"
   ],
   "outputs": [],
   "metadata": {}
  },
  {
   "cell_type": "markdown",
   "source": [
    "## Configuring the Network"
   ],
   "metadata": {}
  },
  {
   "cell_type": "code",
   "execution_count": 7,
   "source": [
    "model = tf.keras.models.Sequential()\r\n",
    "\r\n",
    "# Hidden Layer\r\n",
    "model.add(tf.keras.layers.Dense(units=100, input_shape=(2400,), activation=\"relu\"))\r\n",
    "# 3 output units, one for each of the possible keys to press.\r\n",
    "model.add(tf.keras.layers.Dense(units=3, activation=\"softmax\"))\r\n",
    "\r\n",
    "model.summary()"
   ],
   "outputs": [
    {
     "output_type": "stream",
     "name": "stdout",
     "text": [
      "Model: \"sequential\"\n",
      "_________________________________________________________________\n",
      "Layer (type)                 Output Shape              Param #   \n",
      "=================================================================\n",
      "dense (Dense)                (None, 100)               240100    \n",
      "_________________________________________________________________\n",
      "dense_1 (Dense)              (None, 3)                 303       \n",
      "=================================================================\n",
      "Total params: 240,403\n",
      "Trainable params: 240,403\n",
      "Non-trainable params: 0\n",
      "_________________________________________________________________\n"
     ]
    }
   ],
   "metadata": {}
  },
  {
   "cell_type": "markdown",
   "source": [
    "## Compile and Train"
   ],
   "metadata": {}
  },
  {
   "cell_type": "code",
   "execution_count": 8,
   "source": [
    "model.compile(optimizer=\"adam\", loss=\"categorical_crossentropy\", metrics=[\"accuracy\"])\r\n",
    "model.fit(X_train, y_train, batch_size=32, epochs=100)"
   ],
   "outputs": [
    {
     "output_type": "stream",
     "name": "stdout",
     "text": [
      "Epoch 1/100\n",
      "34/34 [==============================] - 1s 3ms/step - loss: 1.0177 - accuracy: 0.6915\n",
      "Epoch 2/100\n",
      "34/34 [==============================] - 0s 4ms/step - loss: 0.8444 - accuracy: 0.7394\n",
      "Epoch 3/100\n",
      "34/34 [==============================] - 0s 5ms/step - loss: 0.7763 - accuracy: 0.7293\n",
      "Epoch 4/100\n",
      "34/34 [==============================] - 0s 4ms/step - loss: 0.7035 - accuracy: 0.7449\n",
      "Epoch 5/100\n",
      "34/34 [==============================] - 0s 3ms/step - loss: 0.6560 - accuracy: 0.7523\n",
      "Epoch 6/100\n",
      "34/34 [==============================] - 0s 3ms/step - loss: 0.6538 - accuracy: 0.7532\n",
      "Epoch 7/100\n",
      "34/34 [==============================] - 0s 3ms/step - loss: 0.6494 - accuracy: 0.7661\n",
      "Epoch 8/100\n",
      "34/34 [==============================] - 0s 3ms/step - loss: 0.6614 - accuracy: 0.7762\n",
      "Epoch 9/100\n",
      "34/34 [==============================] - 0s 4ms/step - loss: 0.6621 - accuracy: 0.7762\n",
      "Epoch 10/100\n",
      "34/34 [==============================] - 0s 5ms/step - loss: 0.5935 - accuracy: 0.7808\n",
      "Epoch 11/100\n",
      "34/34 [==============================] - 0s 4ms/step - loss: 0.7850 - accuracy: 0.7652\n",
      "Epoch 12/100\n",
      "34/34 [==============================] - 0s 3ms/step - loss: 0.7450 - accuracy: 0.7689\n",
      "Epoch 13/100\n",
      "34/34 [==============================] - 0s 3ms/step - loss: 0.5758 - accuracy: 0.7808\n",
      "Epoch 14/100\n",
      "34/34 [==============================] - 0s 3ms/step - loss: 0.6284 - accuracy: 0.7808\n",
      "Epoch 15/100\n",
      "34/34 [==============================] - 0s 3ms/step - loss: 0.5837 - accuracy: 0.7937\n",
      "Epoch 16/100\n",
      "34/34 [==============================] - 0s 3ms/step - loss: 0.5720 - accuracy: 0.7753\n",
      "Epoch 17/100\n",
      "34/34 [==============================] - 0s 4ms/step - loss: 0.8557 - accuracy: 0.7781\n",
      "Epoch 18/100\n",
      "34/34 [==============================] - 0s 4ms/step - loss: 0.6985 - accuracy: 0.7670\n",
      "Epoch 19/100\n",
      "34/34 [==============================] - 0s 3ms/step - loss: 0.5921 - accuracy: 0.7845\n",
      "Epoch 20/100\n",
      "34/34 [==============================] - 0s 3ms/step - loss: 0.5665 - accuracy: 0.7753\n",
      "Epoch 21/100\n",
      "34/34 [==============================] - 0s 3ms/step - loss: 0.5622 - accuracy: 0.7864\n",
      "Epoch 22/100\n",
      "34/34 [==============================] - 0s 3ms/step - loss: 0.5407 - accuracy: 0.7928\n",
      "Epoch 23/100\n",
      "34/34 [==============================] - 0s 4ms/step - loss: 0.5455 - accuracy: 0.7956\n",
      "Epoch 24/100\n",
      "34/34 [==============================] - 0s 3ms/step - loss: 0.5915 - accuracy: 0.7873\n",
      "Epoch 25/100\n",
      "34/34 [==============================] - 0s 4ms/step - loss: 0.5164 - accuracy: 0.8011\n",
      "Epoch 26/100\n",
      "34/34 [==============================] - 0s 4ms/step - loss: 0.5470 - accuracy: 0.7928\n",
      "Epoch 27/100\n",
      "34/34 [==============================] - 0s 4ms/step - loss: 0.6092 - accuracy: 0.7937\n",
      "Epoch 28/100\n",
      "34/34 [==============================] - 0s 4ms/step - loss: 0.5031 - accuracy: 0.8020\n",
      "Epoch 29/100\n",
      "34/34 [==============================] - 0s 3ms/step - loss: 0.5377 - accuracy: 0.7928\n",
      "Epoch 30/100\n",
      "34/34 [==============================] - 0s 3ms/step - loss: 0.5392 - accuracy: 0.7873\n",
      "Epoch 31/100\n",
      "34/34 [==============================] - 0s 3ms/step - loss: 0.4862 - accuracy: 0.8076\n",
      "Epoch 32/100\n",
      "34/34 [==============================] - 0s 3ms/step - loss: 0.5001 - accuracy: 0.8306\n",
      "Epoch 33/100\n",
      "34/34 [==============================] - 0s 3ms/step - loss: 0.5299 - accuracy: 0.8039\n",
      "Epoch 34/100\n",
      "34/34 [==============================] - 0s 3ms/step - loss: 0.4740 - accuracy: 0.8029\n",
      "Epoch 35/100\n",
      "34/34 [==============================] - 0s 4ms/step - loss: 0.5257 - accuracy: 0.8103\n",
      "Epoch 36/100\n",
      "34/34 [==============================] - 0s 4ms/step - loss: 0.4734 - accuracy: 0.8149\n",
      "Epoch 37/100\n",
      "34/34 [==============================] - 0s 3ms/step - loss: 0.4466 - accuracy: 0.8149\n",
      "Epoch 38/100\n",
      "34/34 [==============================] - 0s 3ms/step - loss: 0.4536 - accuracy: 0.8158\n",
      "Epoch 39/100\n",
      "34/34 [==============================] - 0s 3ms/step - loss: 0.4431 - accuracy: 0.8232\n",
      "Epoch 40/100\n",
      "34/34 [==============================] - 0s 3ms/step - loss: 0.4086 - accuracy: 0.8306\n",
      "Epoch 41/100\n",
      "34/34 [==============================] - 0s 3ms/step - loss: 0.4475 - accuracy: 0.8324\n",
      "Epoch 42/100\n",
      "34/34 [==============================] - 0s 3ms/step - loss: 0.4312 - accuracy: 0.8287\n",
      "Epoch 43/100\n",
      "34/34 [==============================] - 0s 3ms/step - loss: 0.4371 - accuracy: 0.8352\n",
      "Epoch 44/100\n",
      "34/34 [==============================] - 0s 4ms/step - loss: 0.3872 - accuracy: 0.8407\n",
      "Epoch 45/100\n",
      "34/34 [==============================] - 0s 4ms/step - loss: 0.3925 - accuracy: 0.8554\n",
      "Epoch 46/100\n",
      "34/34 [==============================] - 0s 4ms/step - loss: 0.4025 - accuracy: 0.8379\n",
      "Epoch 47/100\n",
      "34/34 [==============================] - 0s 3ms/step - loss: 0.3725 - accuracy: 0.8453\n",
      "Epoch 48/100\n",
      "34/34 [==============================] - 0s 3ms/step - loss: 0.4405 - accuracy: 0.8333\n",
      "Epoch 49/100\n",
      "34/34 [==============================] - 0s 3ms/step - loss: 0.3905 - accuracy: 0.8508\n",
      "Epoch 50/100\n",
      "34/34 [==============================] - 0s 3ms/step - loss: 0.3519 - accuracy: 0.8628\n",
      "Epoch 51/100\n",
      "34/34 [==============================] - 0s 3ms/step - loss: 0.4831 - accuracy: 0.8186\n",
      "Epoch 52/100\n",
      "34/34 [==============================] - 0s 3ms/step - loss: 0.4362 - accuracy: 0.8453\n",
      "Epoch 53/100\n",
      "34/34 [==============================] - 0s 3ms/step - loss: 0.3388 - accuracy: 0.8692\n",
      "Epoch 54/100\n",
      "34/34 [==============================] - 0s 4ms/step - loss: 0.4352 - accuracy: 0.8306\n",
      "Epoch 55/100\n",
      "34/34 [==============================] - 0s 4ms/step - loss: 0.3556 - accuracy: 0.8637\n",
      "Epoch 56/100\n",
      "34/34 [==============================] - 0s 3ms/step - loss: 0.3566 - accuracy: 0.8738\n",
      "Epoch 57/100\n",
      "34/34 [==============================] - 0s 3ms/step - loss: 0.3253 - accuracy: 0.8812\n",
      "Epoch 58/100\n",
      "34/34 [==============================] - 0s 3ms/step - loss: 0.3625 - accuracy: 0.8554\n",
      "Epoch 59/100\n",
      "34/34 [==============================] - 0s 3ms/step - loss: 0.3889 - accuracy: 0.8508\n",
      "Epoch 60/100\n",
      "34/34 [==============================] - 0s 3ms/step - loss: 0.3335 - accuracy: 0.8729\n",
      "Epoch 61/100\n",
      "34/34 [==============================] - 0s 3ms/step - loss: 0.3081 - accuracy: 0.8849\n",
      "Epoch 62/100\n",
      "34/34 [==============================] - 0s 3ms/step - loss: 0.2960 - accuracy: 0.8812\n",
      "Epoch 63/100\n",
      "34/34 [==============================] - 0s 4ms/step - loss: 0.3195 - accuracy: 0.8794\n",
      "Epoch 64/100\n",
      "34/34 [==============================] - 0s 4ms/step - loss: 0.4022 - accuracy: 0.8471\n",
      "Epoch 65/100\n",
      "34/34 [==============================] - 0s 3ms/step - loss: 0.3574 - accuracy: 0.8628\n",
      "Epoch 66/100\n",
      "34/34 [==============================] - 0s 3ms/step - loss: 0.3357 - accuracy: 0.8702\n",
      "Epoch 67/100\n",
      "34/34 [==============================] - 0s 3ms/step - loss: 0.3153 - accuracy: 0.8785\n",
      "Epoch 68/100\n",
      "34/34 [==============================] - 0s 3ms/step - loss: 0.3007 - accuracy: 0.8766\n",
      "Epoch 69/100\n",
      "34/34 [==============================] - 0s 4ms/step - loss: 0.3084 - accuracy: 0.8821\n",
      "Epoch 70/100\n",
      "34/34 [==============================] - 0s 3ms/step - loss: 0.3055 - accuracy: 0.8702\n",
      "Epoch 71/100\n",
      "34/34 [==============================] - 0s 3ms/step - loss: 0.3147 - accuracy: 0.8858\n",
      "Epoch 72/100\n",
      "34/34 [==============================] - 0s 3ms/step - loss: 0.3321 - accuracy: 0.8656\n",
      "Epoch 73/100\n",
      "34/34 [==============================] - 0s 4ms/step - loss: 0.3005 - accuracy: 0.8831\n",
      "Epoch 74/100\n",
      "34/34 [==============================] - 0s 4ms/step - loss: 0.2814 - accuracy: 0.8978\n",
      "Epoch 75/100\n",
      "34/34 [==============================] - 0s 3ms/step - loss: 0.3303 - accuracy: 0.8656\n",
      "Epoch 76/100\n",
      "34/34 [==============================] - 0s 3ms/step - loss: 0.3345 - accuracy: 0.8711\n",
      "Epoch 77/100\n",
      "34/34 [==============================] - 0s 3ms/step - loss: 0.2897 - accuracy: 0.8867\n",
      "Epoch 78/100\n",
      "34/34 [==============================] - 0s 3ms/step - loss: 0.2598 - accuracy: 0.8978\n",
      "Epoch 79/100\n",
      "34/34 [==============================] - 0s 3ms/step - loss: 0.3250 - accuracy: 0.8775\n",
      "Epoch 80/100\n",
      "34/34 [==============================] - 0s 3ms/step - loss: 0.3597 - accuracy: 0.8637\n",
      "Epoch 81/100\n",
      "34/34 [==============================] - 0s 3ms/step - loss: 0.2651 - accuracy: 0.9006\n",
      "Epoch 82/100\n",
      "34/34 [==============================] - 0s 4ms/step - loss: 0.2593 - accuracy: 0.8959\n",
      "Epoch 83/100\n",
      "34/34 [==============================] - 0s 4ms/step - loss: 0.2545 - accuracy: 0.9015\n",
      "Epoch 84/100\n",
      "34/34 [==============================] - 0s 3ms/step - loss: 0.3159 - accuracy: 0.8803\n",
      "Epoch 85/100\n",
      "34/34 [==============================] - 0s 3ms/step - loss: 0.3224 - accuracy: 0.8628\n",
      "Epoch 86/100\n",
      "34/34 [==============================] - 0s 3ms/step - loss: 0.2979 - accuracy: 0.8941\n",
      "Epoch 87/100\n",
      "34/34 [==============================] - 0s 3ms/step - loss: 0.2699 - accuracy: 0.8895\n",
      "Epoch 88/100\n",
      "34/34 [==============================] - 0s 3ms/step - loss: 0.2591 - accuracy: 0.8904\n",
      "Epoch 89/100\n",
      "34/34 [==============================] - 0s 3ms/step - loss: 0.2633 - accuracy: 0.9070\n",
      "Epoch 90/100\n",
      "34/34 [==============================] - 0s 4ms/step - loss: 0.2704 - accuracy: 0.8923\n",
      "Epoch 91/100\n",
      "34/34 [==============================] - 0s 4ms/step - loss: 0.2978 - accuracy: 0.8757\n",
      "Epoch 92/100\n",
      "34/34 [==============================] - 0s 3ms/step - loss: 0.3063 - accuracy: 0.8692\n",
      "Epoch 93/100\n",
      "34/34 [==============================] - 0s 3ms/step - loss: 0.2957 - accuracy: 0.8785\n",
      "Epoch 94/100\n",
      "34/34 [==============================] - 0s 3ms/step - loss: 0.2396 - accuracy: 0.9042\n",
      "Epoch 95/100\n",
      "34/34 [==============================] - 0s 3ms/step - loss: 0.3471 - accuracy: 0.8738\n",
      "Epoch 96/100\n",
      "34/34 [==============================] - 0s 3ms/step - loss: 0.3020 - accuracy: 0.8867\n",
      "Epoch 97/100\n",
      "34/34 [==============================] - 0s 3ms/step - loss: 0.2842 - accuracy: 0.8831\n",
      "Epoch 98/100\n",
      "34/34 [==============================] - 0s 3ms/step - loss: 0.2254 - accuracy: 0.9153\n",
      "Epoch 99/100\n",
      "34/34 [==============================] - 0s 3ms/step - loss: 0.2180 - accuracy: 0.9153\n",
      "Epoch 100/100\n",
      "34/34 [==============================] - 0s 3ms/step - loss: 0.2392 - accuracy: 0.9052\n"
     ]
    },
    {
     "output_type": "execute_result",
     "data": {
      "text/plain": [
       "<keras.callbacks.History at 0x1731cd72280>"
      ]
     },
     "metadata": {},
     "execution_count": 8
    }
   ],
   "metadata": {}
  },
  {
   "cell_type": "markdown",
   "source": [
    "## Model Evaluation"
   ],
   "metadata": {}
  },
  {
   "cell_type": "code",
   "execution_count": 9,
   "source": [
    "y_pred = np.round(model.predict(X_test))\r\n",
    "print(np.mean(y_test == y_pred) * 100)"
   ],
   "outputs": [
    {
     "output_type": "stream",
     "name": "stdout",
     "text": [
      "89.2156862745098\n"
     ]
    }
   ],
   "metadata": {}
  },
  {
   "cell_type": "markdown",
   "source": [
    "## Exporting the Model"
   ],
   "metadata": {}
  },
  {
   "cell_type": "code",
   "execution_count": 10,
   "source": [
    "if \"saved_model\" not in os.listdir(parent_dir):\r\n",
    "    os.mkdir(os.path.join(parent_dir, \"saved_model\"))\r\n",
    "\r\n",
    "model.save(\"saved_model\")"
   ],
   "outputs": [
    {
     "output_type": "stream",
     "name": "stdout",
     "text": [
      "INFO:tensorflow:Assets written to: saved_model\\assets\n"
     ]
    }
   ],
   "metadata": {}
  }
 ],
 "metadata": {
  "orig_nbformat": 4,
  "language_info": {
   "name": "python",
   "version": "3.9.6",
   "mimetype": "text/x-python",
   "codemirror_mode": {
    "name": "ipython",
    "version": 3
   },
   "pygments_lexer": "ipython3",
   "nbconvert_exporter": "python",
   "file_extension": ".py"
  },
  "kernelspec": {
   "name": "python3",
   "display_name": "Python 3.9.6 64-bit"
  },
  "interpreter": {
   "hash": "32ee993759a3779259f6a209bc77407797f20b4ad1f2e949d165c2780a488203"
  }
 },
 "nbformat": 4,
 "nbformat_minor": 2
}